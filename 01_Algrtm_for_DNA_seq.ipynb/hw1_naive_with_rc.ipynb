{
 "cells": [
  {
   "cell_type": "code",
   "execution_count": 1,
   "metadata": {
    "collapsed": false
   },
   "outputs": [
    {
     "ename": "ModuleNotFoundError",
     "evalue": "No module named 'naive_with_rc'",
     "output_type": "error",
     "traceback": [
      "\u001b[1;31m---------------------------------------------------------------------------\u001b[0m",
      "\u001b[1;31mModuleNotFoundError\u001b[0m                       Traceback (most recent call last)",
      "Cell \u001b[1;32mIn[1], line 2\u001b[0m\n\u001b[0;32m      1\u001b[0m \u001b[39m# Implement the naive_with_rc function\u001b[39;00m\n\u001b[1;32m----> 2\u001b[0m \u001b[39mfrom\u001b[39;00m \u001b[39mnaive_with_rc\u001b[39;00m \u001b[39mimport\u001b[39;00m naive_with_rc\n",
      "\u001b[1;31mModuleNotFoundError\u001b[0m: No module named 'naive_with_rc'"
     ]
    }
   ],
   "source": [
    "# Implement the naive_with_rc function\n",
    "from naive_with_rc import naive_with_rc"
   ]
  },
  {
   "attachments": {},
   "cell_type": "markdown",
   "metadata": {},
   "source": [
    "### Example 1"
   ]
  },
  {
   "cell_type": "code",
   "execution_count": 2,
   "metadata": {
    "collapsed": false
   },
   "outputs": [
    {
     "ename": "NameError",
     "evalue": "name 'naive_with_rc' is not defined",
     "output_type": "error",
     "traceback": [
      "\u001b[1;31m---------------------------------------------------------------------------\u001b[0m",
      "\u001b[1;31mNameError\u001b[0m                                 Traceback (most recent call last)",
      "Cell \u001b[1;32mIn[2], line 4\u001b[0m\n\u001b[0;32m      2\u001b[0m ten_as \u001b[39m=\u001b[39m \u001b[39m'\u001b[39m\u001b[39mAAAAAAAAAA\u001b[39m\u001b[39m'\u001b[39m\n\u001b[0;32m      3\u001b[0m t \u001b[39m=\u001b[39m ten_as \u001b[39m+\u001b[39m \u001b[39m'\u001b[39m\u001b[39mCCC\u001b[39m\u001b[39m'\u001b[39m \u001b[39m+\u001b[39m ten_as \u001b[39m+\u001b[39m \u001b[39m'\u001b[39m\u001b[39mGGG\u001b[39m\u001b[39m'\u001b[39m \u001b[39m+\u001b[39m ten_as\n\u001b[1;32m----> 4\u001b[0m occurrences \u001b[39m=\u001b[39m naive_with_rc(p, t)\n\u001b[0;32m      5\u001b[0m \u001b[39mprint\u001b[39m(occurrences)\n",
      "\u001b[1;31mNameError\u001b[0m: name 'naive_with_rc' is not defined"
     ]
    }
   ],
   "source": [
    "p = 'CCC'\n",
    "ten_as = 'AAAAAAAAAA'\n",
    "t = ten_as + 'CCC' + ten_as + 'GGG' + ten_as\n",
    "occurrences = naive_with_rc(p, t)\n",
    "print(occurrences)"
   ]
  },
  {
   "attachments": {},
   "cell_type": "markdown",
   "metadata": {},
   "source": [
    "### Example 2"
   ]
  },
  {
   "cell_type": "code",
   "execution_count": 3,
   "metadata": {
    "collapsed": false
   },
   "outputs": [
    {
     "ename": "NameError",
     "evalue": "name 'naive_with_rc' is not defined",
     "output_type": "error",
     "traceback": [
      "\u001b[1;31m---------------------------------------------------------------------------\u001b[0m",
      "\u001b[1;31mNameError\u001b[0m                                 Traceback (most recent call last)",
      "Cell \u001b[1;32mIn[3], line 3\u001b[0m\n\u001b[0;32m      1\u001b[0m p \u001b[39m=\u001b[39m \u001b[39m'\u001b[39m\u001b[39mCGCG\u001b[39m\u001b[39m'\u001b[39m\n\u001b[0;32m      2\u001b[0m t \u001b[39m=\u001b[39m ten_as \u001b[39m+\u001b[39m \u001b[39m'\u001b[39m\u001b[39mCGCG\u001b[39m\u001b[39m'\u001b[39m \u001b[39m+\u001b[39m ten_as \u001b[39m+\u001b[39m \u001b[39m'\u001b[39m\u001b[39mCGCG\u001b[39m\u001b[39m'\u001b[39m \u001b[39m+\u001b[39m ten_as\n\u001b[1;32m----> 3\u001b[0m occurrences \u001b[39m=\u001b[39m naive_with_rc(p, t)\n\u001b[0;32m      4\u001b[0m \u001b[39mprint\u001b[39m(occurrences)\n",
      "\u001b[1;31mNameError\u001b[0m: name 'naive_with_rc' is not defined"
     ]
    }
   ],
   "source": [
    "p = 'CGCG'\n",
    "t = ten_as + 'CGCG' + ten_as + 'CGCG' + ten_as\n",
    "occurrences = naive_with_rc(p, t)\n",
    "print(occurrences)"
   ]
  },
  {
   "attachments": {},
   "cell_type": "markdown",
   "metadata": {},
   "source": [
    "### Example 3"
   ]
  },
  {
   "cell_type": "code",
   "execution_count": 4,
   "metadata": {
    "collapsed": false
   },
   "outputs": [
    {
     "name": "stderr",
     "output_type": "stream",
     "text": [
      "--2023-05-08 09:56:21--  http://d396qusza40orc.cloudfront.net/ads1/data/phix.fa\n",
      "Resolving d396qusza40orc.cloudfront.net (d396qusza40orc.cloudfront.net)... 13.35.183.19, 13.35.183.222, 13.35.183.97, ...\n",
      "Connecting to d396qusza40orc.cloudfront.net (d396qusza40orc.cloudfront.net)|13.35.183.19|:80... connected.\n",
      "HTTP request sent, awaiting response... 200 OK\n",
      "Length: 5528 (5.4K) [application/octet-stream]\n",
      "Saving to: 'phix.fa'\n",
      "\n",
      "     0K .....                                                 100% 36.4M=0s\n",
      "\n",
      "2023-05-08 09:56:22 (36.4 MB/s) - 'phix.fa' saved [5528/5528]\n",
      "\n"
     ]
    }
   ],
   "source": [
    "# Phi-X genome\n",
    "!wget http://d396qusza40orc.cloudfront.net/ads1/data/phix.fa"
   ]
  },
  {
   "cell_type": "code",
   "execution_count": 5,
   "metadata": {
    "collapsed": true
   },
   "outputs": [],
   "source": [
    "def readGenome(filename):\n",
    "    genome = ''\n",
    "    with open(filename, 'r') as f:\n",
    "        for line in f:\n",
    "            # ignore header line with genome information\n",
    "            if not line[0] == '>':\n",
    "                genome += line.rstrip()\n",
    "    return genome"
   ]
  },
  {
   "cell_type": "code",
   "execution_count": 6,
   "metadata": {
    "collapsed": true
   },
   "outputs": [],
   "source": [
    "phix_genome = readGenome('phix.fa')"
   ]
  },
  {
   "cell_type": "code",
   "execution_count": 7,
   "metadata": {
    "collapsed": true
   },
   "outputs": [
    {
     "ename": "NameError",
     "evalue": "name 'naive_with_rc' is not defined",
     "output_type": "error",
     "traceback": [
      "\u001b[1;31m---------------------------------------------------------------------------\u001b[0m",
      "\u001b[1;31mNameError\u001b[0m                                 Traceback (most recent call last)",
      "Cell \u001b[1;32mIn[7], line 1\u001b[0m\n\u001b[1;32m----> 1\u001b[0m occurrences \u001b[39m=\u001b[39m naive_with_rc(\u001b[39m'\u001b[39m\u001b[39mATTA\u001b[39m\u001b[39m'\u001b[39m, phix_genome)\n",
      "\u001b[1;31mNameError\u001b[0m: name 'naive_with_rc' is not defined"
     ]
    }
   ],
   "source": [
    "occurrences = naive_with_rc('ATTA', phix_genome)"
   ]
  },
  {
   "cell_type": "code",
   "execution_count": 8,
   "metadata": {
    "collapsed": false
   },
   "outputs": [
    {
     "ename": "NameError",
     "evalue": "name 'occurrences' is not defined",
     "output_type": "error",
     "traceback": [
      "\u001b[1;31m---------------------------------------------------------------------------\u001b[0m",
      "\u001b[1;31mNameError\u001b[0m                                 Traceback (most recent call last)",
      "Cell \u001b[1;32mIn[8], line 1\u001b[0m\n\u001b[1;32m----> 1\u001b[0m \u001b[39mprint\u001b[39m(\u001b[39m'\u001b[39m\u001b[39moffset of leftmost occurrence: \u001b[39m\u001b[39m%d\u001b[39;00m\u001b[39m'\u001b[39m \u001b[39m%\u001b[39m \u001b[39mmin\u001b[39m(occurrences))\n",
      "\u001b[1;31mNameError\u001b[0m: name 'occurrences' is not defined"
     ]
    }
   ],
   "source": [
    "print('offset of leftmost occurrence: %d' % min(occurrences))"
   ]
  },
  {
   "cell_type": "code",
   "execution_count": 9,
   "metadata": {
    "collapsed": false
   },
   "outputs": [
    {
     "ename": "NameError",
     "evalue": "name 'occurrences' is not defined",
     "output_type": "error",
     "traceback": [
      "\u001b[1;31m---------------------------------------------------------------------------\u001b[0m",
      "\u001b[1;31mNameError\u001b[0m                                 Traceback (most recent call last)",
      "Cell \u001b[1;32mIn[9], line 1\u001b[0m\n\u001b[1;32m----> 1\u001b[0m \u001b[39mprint\u001b[39m(\u001b[39m'\u001b[39m\u001b[39m# occurrences: \u001b[39m\u001b[39m%d\u001b[39;00m\u001b[39m'\u001b[39m \u001b[39m%\u001b[39m \u001b[39mlen\u001b[39m(occurrences))\n",
      "\u001b[1;31mNameError\u001b[0m: name 'occurrences' is not defined"
     ]
    }
   ],
   "source": [
    "print('# occurrences: %d' % len(occurrences))"
   ]
  }
 ],
 "metadata": {
  "kernelspec": {
   "display_name": "Python 3",
   "language": "python",
   "name": "python3"
  },
  "language_info": {
   "codemirror_mode": {
    "name": "ipython",
    "version": 3
   },
   "file_extension": ".py",
   "mimetype": "text/x-python",
   "name": "python",
   "nbconvert_exporter": "python",
   "pygments_lexer": "ipython3",
   "version": "3.11.3"
  }
 },
 "nbformat": 4,
 "nbformat_minor": 0
}
