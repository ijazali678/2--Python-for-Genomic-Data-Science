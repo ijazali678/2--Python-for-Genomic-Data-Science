{
 "cells": [
  {
   "cell_type": "code",
   "execution_count": 1,
   "metadata": {
    "collapsed": true
   },
   "outputs": [],
   "source": [
    "def de_bruijn_ize(st, k):\n",
    "    \"\"\" Return a list holding, for each k-mer, its left\n",
    "        k-1-mer and its right k-1-mer in a pair \"\"\"\n",
    "    edges = []\n",
    "    nodes = set()\n",
    "    for i in range(len(st) - k + 1):\n",
    "        edges.append((st[i:i+k-1], st[i+1:i+k]))\n",
    "        nodes.add(st[i:i+k-1])\n",
    "        nodes.add(st[i+1:i+k])\n",
    "    return nodes, edges"
   ]
  },
  {
   "cell_type": "code",
   "execution_count": 2,
   "metadata": {
    "collapsed": false
   },
   "outputs": [],
   "source": [
    "nodes, edges = de_bruijn_ize(\"ACGCGTCG\", 3)"
   ]
  },
  {
   "cell_type": "code",
   "execution_count": 3,
   "metadata": {
    "collapsed": false
   },
   "outputs": [
    {
     "data": {
      "text/plain": [
       "{'AC', 'CG', 'GC', 'GT', 'TC'}"
      ]
     },
     "execution_count": 3,
     "metadata": {},
     "output_type": "execute_result"
    }
   ],
   "source": [
    "nodes"
   ]
  },
  {
   "cell_type": "code",
   "execution_count": 4,
   "metadata": {
    "collapsed": false
   },
   "outputs": [
    {
     "data": {
      "text/plain": [
       "[('AC', 'CG'),\n",
       " ('CG', 'GC'),\n",
       " ('GC', 'CG'),\n",
       " ('CG', 'GT'),\n",
       " ('GT', 'TC'),\n",
       " ('TC', 'CG')]"
      ]
     },
     "execution_count": 4,
     "metadata": {},
     "output_type": "execute_result"
    }
   ],
   "source": [
    "edges"
   ]
  },
  {
   "cell_type": "code",
   "execution_count": 5,
   "metadata": {
    "collapsed": true
   },
   "outputs": [],
   "source": [
    "def visualize_de_bruijn(st, k):\n",
    "    \"\"\" Visualize a directed multigraph using graphviz \"\"\"\n",
    "    nodes, edges = de_bruijn_ize(st, k)\n",
    "    dot_str = 'digraph \"DeBruijn graph\" {\\n'\n",
    "    for node in nodes:\n",
    "        dot_str += '  %s [label=\"%s\"] ;\\n' % (node, node)\n",
    "    for src, dst in edges:\n",
    "        dot_str += '  %s -> %s ;\\n' % (src, dst)\n",
    "    return dot_str + '}\\n'"
   ]
  },
  {
   "cell_type": "code",
   "execution_count": 6,
   "metadata": {},
   "outputs": [],
   "source": [
    "\"\"\"\n",
    "Graphviz IPython magic extensions\n",
    "\n",
    "Magic methods:\n",
    "    %dot <dot graph>\n",
    "    %%dot <dot ...\n",
    "    ... graph>\n",
    "    %dotstr \"<dot graph>\"\n",
    "    %dotobj obj.to_dot()\n",
    "    %dotobjs obj[0].to_dot(), obj[1].to_dot(), ...\n",
    "\n",
    "    also: %twopi, %neato, %sdp, %fsdp, and %circo magic families.\n",
    "\n",
    "Usage:\n",
    "    %load_ext gvmagic\n",
    "\"\"\"\n",
    "\n",
    "\n",
    "from logging import info, error\n",
    "from subprocess import Popen, PIPE\n",
    "\n",
    "from IPython.core.display import display_svg\n",
    "from IPython.core.magic import Magics\n",
    "from IPython.core.magic import line_cell_magic\n",
    "from IPython.core.magic import line_magic\n",
    "from IPython.core.magic import magics_class\n",
    "\n",
    "\n",
    "def run_graphviz(s, layout_engine='dot'):\n",
    "    \"\"\"Execute dot with a layout and return a raw SVG image, or None.\"\"\"\n",
    "    cmd = ['dot', '-Tsvg', '-K', layout_engine]\n",
    "\n",
    "    dot = Popen(cmd, stdin=PIPE, stdout=PIPE, stderr=PIPE)\n",
    "    stdoutdata, stderrdata = dot.communicate(s.encode('utf-8'))\n",
    "    status = dot.wait()\n",
    "    if status == 0:\n",
    "        return stdoutdata\n",
    "    else:\n",
    "        fstr = \"dot returned {}\\n[==== stderr ====]\\n{}\"\n",
    "        error(fstr.format(status, stderrdata.decode('utf-8')))\n",
    "        return None\n",
    "\n",
    "\n",
    "@magics_class\n",
    "class GraphvizMagics(Magics):\n",
    "\n",
    "    @line_cell_magic\n",
    "    def dot(self, line, cell=None):\n",
    "        self._from_cell(line, cell, 'dot')\n",
    "\n",
    "    @line_magic\n",
    "    def dotstr(self, line):\n",
    "        self._from_str(line, 'dot')\n",
    "\n",
    "    @line_magic\n",
    "    def dotobj(self, line):\n",
    "        self._from_obj(line, 'dot')\n",
    "\n",
    "    @line_magic\n",
    "    def dotobjs(self, line):\n",
    "        self._from_objs(line, 'dot')\n",
    "\n",
    "    @line_cell_magic\n",
    "    def neato(self, line, cell=None):\n",
    "        self._from_cell(line, cell, 'neato')\n",
    "\n",
    "    @line_magic\n",
    "    def neatostr(self, line):\n",
    "        self._from_str(line, 'neato')\n",
    "\n",
    "    @line_magic\n",
    "    def neatoobj(self, line):\n",
    "        self._from_obj(line, 'neato')\n",
    "\n",
    "    @line_magic\n",
    "    def neatoobjs(self, line):\n",
    "        self._from_objs(line, 'neato')\n",
    "\n",
    "    @line_cell_magic\n",
    "    def sfdp(self, line, cell=None):\n",
    "        self._from_cell(line, cell, 'sfdp')\n",
    "\n",
    "    @line_magic\n",
    "    def sfdpstr(self, line):\n",
    "        self._from_str(line, 'sfdp')\n",
    "\n",
    "    @line_magic\n",
    "    def sfdpobj(self, line):\n",
    "        self._from_obj(line, 'sfdp')\n",
    "\n",
    "    @line_magic\n",
    "    def sfdpobjs(self, line):\n",
    "        self._from_objs(line, 'sfdp')\n",
    "\n",
    "    @line_cell_magic\n",
    "    def fdp(self, line, cell=None):\n",
    "        self._from_cell(line, cell, 'fdp')\n",
    "\n",
    "    @line_magic\n",
    "    def fdpstr(self, line):\n",
    "        self._from_str(line, 'fdp')\n",
    "\n",
    "    @line_magic\n",
    "    def fdpobj(self, line):\n",
    "        self._from_obj(line, 'fdp')\n",
    "\n",
    "    @line_magic\n",
    "    def fdpobjs(self, line):\n",
    "        self._from_objs(line, 'fdp')\n",
    "\n",
    "    @line_cell_magic\n",
    "    def twopi(self, line, cell=None):\n",
    "        self._from_cell(line, cell, 'twopi')\n",
    "\n",
    "    @line_magic\n",
    "    def twopistr(self, line):\n",
    "        self._from_str(line, 'twopi')\n",
    "\n",
    "    @line_magic\n",
    "    def twopiobj(self, line):\n",
    "        self._from_obj(line, 'twopi')\n",
    "\n",
    "    @line_magic\n",
    "    def twopiobjs(self, line):\n",
    "        self._from_objs(line, 'twopi')\n",
    "\n",
    "    @line_cell_magic\n",
    "    def circo(self, line, cell=None):\n",
    "        self._from_cell(line, cell, 'circo')\n",
    "\n",
    "    @line_magic\n",
    "    def circostr(self, line):\n",
    "        self._from_str(line, 'circo')\n",
    "\n",
    "    @line_magic\n",
    "    def circoobj(self, line):\n",
    "        self._from_obj(line, 'circo')\n",
    "\n",
    "    @line_magic\n",
    "    def circoobjs(self, line):\n",
    "        self._from_objs(line, 'circo')\n",
    "\n",
    "    def _from_cell(self, line, cell, layout_engine):\n",
    "        if cell is None:\n",
    "            s = line\n",
    "        else:\n",
    "            s = line + '\\n' + cell\n",
    "        data = run_graphviz(s, layout_engine)\n",
    "        if data:\n",
    "            display_svg(data, raw=True)\n",
    "\n",
    "    def _from_str(self, line, layout_engine):\n",
    "        s = self.shell.ev(line)\n",
    "        data = run_graphviz(s, layout_engine)\n",
    "        if data:\n",
    "            display_svg(data, raw=True)\n",
    "\n",
    "    def _from_obj(self, line, layout_engine):\n",
    "        obj = self.shell.ev(line)\n",
    "        try:\n",
    "            s = obj.to_dot()\n",
    "        except AttributeError:\n",
    "            error(\"expected object to implement 'to_dot()' method\")\n",
    "        except TypeError:\n",
    "            error(\"expected to_dot method to be callable w/o args\")\n",
    "        else:\n",
    "            data = run_graphviz(s, layout_engine)\n",
    "            if data:\n",
    "                display_svg(data, raw=True)\n",
    "\n",
    "    def _from_objs(self, line, layout_engine):\n",
    "        \"\"\"dot objects magic\"\"\"\n",
    "        objs = self.shell.ev(line)\n",
    "        for i, obj in enumerate(objs):\n",
    "            try:\n",
    "                s = obj.to_dot()\n",
    "            except AttributeError:\n",
    "                error(\"expected object to implement 'to_dot()' method\")\n",
    "            except TypeError:\n",
    "                error(\"expected to_dot method to be callable w/o args\")\n",
    "            else:\n",
    "                data = run_graphviz(s, layout_engine)\n",
    "                if data:\n",
    "                    info(\"object {}:\".format(i))\n",
    "                    display_svg(data, raw=True)\n",
    "\n",
    "\n",
    "def load_ipython_extension(ipython):\n",
    "    \"\"\"Load the extension in IPython.\"\"\"\n",
    "    ipython.register_magics(GraphvizMagics)\n",
    "\n",
    "\n",
    "def unload_ipython_extension(ipython):\n",
    "    \"\"\"Unload the extension in IPython.\"\"\"\n",
    "    pass"
   ]
  },
  {
   "cell_type": "code",
   "execution_count": 3,
   "metadata": {},
   "outputs": [
    {
     "name": "stdout",
     "output_type": "stream",
     "text": [
      "Note: you may need to restart the kernel to use updated packages.\n"
     ]
    },
    {
     "name": "stderr",
     "output_type": "stream",
     "text": [
      "ERROR: Could not find a version that satisfies the requirement gvmagic (from versions: none)\n",
      "ERROR: No matching distribution found for gvmagic\n"
     ]
    }
   ],
   "source": [
    "%pip install gvmagic\n"
   ]
  },
  {
   "cell_type": "code",
   "execution_count": 7,
   "metadata": {
    "collapsed": false
   },
   "outputs": [
    {
     "name": "stderr",
     "output_type": "stream",
     "text": [
      "UsageError: Line magic function `%install_ext` not found.\n"
     ]
    }
   ],
   "source": [
    "# might have to do this first:\n",
    "%install_ext https://raw.github.com/cjdrake/ipython-magic/master/gvmagic.py  # install the extension\n",
    "%load_ext gvmagic   # load the extension\n",
    "\n"
   ]
  },
  {
   "cell_type": "code",
   "execution_count": 8,
   "metadata": {
    "collapsed": false
   },
   "outputs": [
    {
     "name": "stderr",
     "output_type": "stream",
     "text": [
      "UsageError: Line magic function `%dotstr` not found.\n"
     ]
    }
   ],
   "source": [
    "%dotstr visualize_de_bruijn(\"ACGCGTCG\", 3)"
   ]
  }
 ],
 "metadata": {
  "kernelspec": {
   "display_name": "Python 3",
   "language": "python",
   "name": "python3"
  },
  "language_info": {
   "codemirror_mode": {
    "name": "ipython",
    "version": 3
   },
   "file_extension": ".py",
   "mimetype": "text/x-python",
   "name": "python",
   "nbconvert_exporter": "python",
   "pygments_lexer": "ipython3",
   "version": "3.11.3"
  }
 },
 "nbformat": 4,
 "nbformat_minor": 0
}
