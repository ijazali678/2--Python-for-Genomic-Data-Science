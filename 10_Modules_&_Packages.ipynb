{
 "cells": [
  {
   "cell_type": "code",
   "execution_count": 2,
   "metadata": {},
   "outputs": [
    {
     "ename": "ModuleNotFoundError",
     "evalue": "No module named 'dnautil'",
     "output_type": "error",
     "traceback": [
      "\u001b[1;31m---------------------------------------------------------------------------\u001b[0m",
      "\u001b[1;31mModuleNotFoundError\u001b[0m                       Traceback (most recent call last)",
      "Cell \u001b[1;32mIn[2], line 37\u001b[0m\n\u001b[0;32m      1\u001b[0m \u001b[39m# Modules and Packages \u001b[39;00m\n\u001b[0;32m      2\u001b[0m \u001b[39m# what is modules?      \u001b[39;00m\n\u001b[0;32m      3\u001b[0m \u001b[39m# what is packages?\u001b[39;00m\n\u001b[1;32m   (...)\u001b[0m\n\u001b[0;32m     34\u001b[0m \u001b[39m# how to use modules?\u001b[39;00m\n\u001b[0;32m     35\u001b[0m \u001b[39m# import module_name\u001b[39;00m\n\u001b[1;32m---> 37\u001b[0m \u001b[39mimport\u001b[39;00m \u001b[39mdnautil\u001b[39;00m\n",
      "\u001b[1;31mModuleNotFoundError\u001b[0m: No module named 'dnautil'"
     ]
    }
   ],
   "source": [
    "# Modules and Packages \n",
    "# what is modules?      \n",
    "# what is packages?\n",
    "# how to create modules?\n",
    "# how to create packages?\n",
    "# how to import modules?\n",
    "# how to import packages?\n",
    "# how to import specific modules from packages?\n",
    "# how to import specific modules from packages?\n",
    "\n",
    "\n",
    "# Modules and Packages\n",
    "# Modules\n",
    "# A module is a file containing Python definitions and statements.\n",
    "# The file name is the module name with the suffix .py appended.\n",
    "# Within a module, the module’s name (as a string) is available as the value of the global variable __name__.\n",
    "# A module can contain executable statements as well as function definitions.\n",
    "\n",
    "# Packages\n",
    "# Packages are a way of structuring Python’s module namespace by using “dotted module names”.\n",
    "\n",
    "# For example, the module name A.B designates a submodule named B in a package named A.\n",
    "# Just like the use of modules saves the authors of different modules from having to worry about each other’s global variable names,\n",
    "# the use of dotted module names saves the authors of multi-module packages like NumPy or the Python Imaging Library from having to worry about each other’s module names.\n",
    "\n",
    "\n",
    "# Creating Modules\n",
    "# You can create your own modules and packages and use them in your programs.\n",
    "# The file name is the module name with the suffix .py appended.\n",
    "# Within a module, the module’s name (as a string) is available as the value of the global variable __name__.\n",
    "# A module can contain executable statements as well as function definitions.\n",
    "\n",
    "\n",
    "# how to use modules?\n",
    "# import module_name\n",
    "\n",
    "import dnautil\n"
   ]
  },
  {
   "cell_type": "code",
   "execution_count": 5,
   "metadata": {},
   "outputs": [
    {
     "name": "stdout",
     "output_type": "stream",
     "text": [
      "Note: you may need to restart the kernel to use updated packages.\n"
     ]
    },
    {
     "name": "stderr",
     "output_type": "stream",
     "text": [
      "ERROR: Could not find a version that satisfies the requirement dnautil (from versions: none)\n",
      "ERROR: No matching distribution found for dnautil\n",
      "\n",
      "[notice] A new release of pip available: 22.3.1 -> 23.1.2\n",
      "[notice] To update, run: python.exe -m pip install --upgrade pip\n"
     ]
    }
   ],
   "source": [
    "pip install dnautil"
   ]
  },
  {
   "cell_type": "code",
   "execution_count": 6,
   "metadata": {},
   "outputs": [
    {
     "data": {
      "text/plain": [
       "['g:\\\\Online Courses\\\\Genomic data science\\\\2) Python for Genomic Science',\n",
       " 'c:\\\\Users\\\\ijaz ali jin\\\\AppData\\\\Local\\\\Programs\\\\Python\\\\Python311\\\\python311.zip',\n",
       " 'c:\\\\Users\\\\ijaz ali jin\\\\AppData\\\\Local\\\\Programs\\\\Python\\\\Python311\\\\DLLs',\n",
       " 'c:\\\\Users\\\\ijaz ali jin\\\\AppData\\\\Local\\\\Programs\\\\Python\\\\Python311\\\\Lib',\n",
       " 'c:\\\\Users\\\\ijaz ali jin\\\\AppData\\\\Local\\\\Programs\\\\Python\\\\Python311',\n",
       " '',\n",
       " 'C:\\\\Users\\\\ijaz ali jin\\\\AppData\\\\Roaming\\\\Python\\\\Python311\\\\site-packages',\n",
       " 'C:\\\\Users\\\\ijaz ali jin\\\\AppData\\\\Roaming\\\\Python\\\\Python311\\\\site-packages\\\\win32',\n",
       " 'C:\\\\Users\\\\ijaz ali jin\\\\AppData\\\\Roaming\\\\Python\\\\Python311\\\\site-packages\\\\win32\\\\lib',\n",
       " 'C:\\\\Users\\\\ijaz ali jin\\\\AppData\\\\Roaming\\\\Python\\\\Python311\\\\site-packages\\\\Pythonwin',\n",
       " 'c:\\\\Users\\\\ijaz ali jin\\\\AppData\\\\Local\\\\Programs\\\\Python\\\\Python311\\\\Lib\\\\site-packages']"
      ]
     },
     "execution_count": 6,
     "metadata": {},
     "output_type": "execute_result"
    }
   ],
   "source": [
    "import sys # sys is a module name \n",
    "sys.path # sys.path is a variable name "
   ]
  },
  {
   "cell_type": "code",
   "execution_count": 9,
   "metadata": {},
   "outputs": [
    {
     "ename": "ModuleNotFoundError",
     "evalue": "No module named 'dnautil'",
     "output_type": "error",
     "traceback": [
      "\u001b[1;31m---------------------------------------------------------------------------\u001b[0m",
      "\u001b[1;31mModuleNotFoundError\u001b[0m                       Traceback (most recent call last)",
      "Cell \u001b[1;32mIn[9], line 1\u001b[0m\n\u001b[1;32m----> 1\u001b[0m \u001b[39mimport\u001b[39;00m \u001b[39mdnautil\u001b[39;00m\n",
      "\u001b[1;31mModuleNotFoundError\u001b[0m: No module named 'dnautil'"
     ]
    }
   ],
   "source": [
    "import dnautil\n"
   ]
  }
 ],
 "metadata": {
  "kernelspec": {
   "display_name": "Python 3",
   "language": "python",
   "name": "python3"
  },
  "language_info": {
   "codemirror_mode": {
    "name": "ipython",
    "version": 3
   },
   "file_extension": ".py",
   "mimetype": "text/x-python",
   "name": "python",
   "nbconvert_exporter": "python",
   "pygments_lexer": "ipython3",
   "version": "3.11.3"
  },
  "orig_nbformat": 4
 },
 "nbformat": 4,
 "nbformat_minor": 2
}
