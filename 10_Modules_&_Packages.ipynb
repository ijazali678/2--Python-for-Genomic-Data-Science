{
 "cells": [
  {
   "cell_type": "code",
   "execution_count": 1,
   "metadata": {},
   "outputs": [
    {
     "ename": "ModuleNotFoundError",
     "evalue": "No module named 'dnautil'",
     "output_type": "error",
     "traceback": [
      "\u001b[1;31m---------------------------------------------------------------------------\u001b[0m",
      "\u001b[1;31mModuleNotFoundError\u001b[0m                       Traceback (most recent call last)",
      "Cell \u001b[1;32mIn[1], line 37\u001b[0m\n\u001b[0;32m      1\u001b[0m \u001b[39m# Modules and Packages \u001b[39;00m\n\u001b[0;32m      2\u001b[0m \u001b[39m# what is modules?      \u001b[39;00m\n\u001b[0;32m      3\u001b[0m \u001b[39m# what is packages?\u001b[39;00m\n\u001b[1;32m   (...)\u001b[0m\n\u001b[0;32m     34\u001b[0m \u001b[39m# how to use modules?\u001b[39;00m\n\u001b[0;32m     35\u001b[0m \u001b[39m# import module_name\u001b[39;00m\n\u001b[1;32m---> 37\u001b[0m \u001b[39mimport\u001b[39;00m \u001b[39mdnautil\u001b[39;00m\n",
      "\u001b[1;31mModuleNotFoundError\u001b[0m: No module named 'dnautil'"
     ]
    }
   ],
   "source": [
    "# Modules and Packages \n",
    "# what is modules?      \n",
    "# what is packages?\n",
    "# how to create modules?\n",
    "# how to create packages?\n",
    "# how to import modules?\n",
    "# how to import packages?\n",
    "# how to import specific modules from packages?\n",
    "# how to import specific modules from packages?\n",
    "\n",
    "\n",
    "# Modules and Packages\n",
    "# Modules\n",
    "# A module is a file containing Python definitions and statements.\n",
    "# The file name is the module name with the suffix .py appended.\n",
    "# Within a module, the module’s name (as a string) is available as the value of the global variable __name__.\n",
    "# A module can contain executable statements as well as function definitions.\n",
    "\n",
    "# Packages\n",
    "# Packages are a way of structuring Python’s module namespace by using “dotted module names”.\n",
    "\n",
    "# For example, the module name A.B designates a submodule named B in a package named A.\n",
    "# Just like the use of modules saves the authors of different modules from having to worry about each other’s global variable names,\n",
    "# the use of dotted module names saves the authors of multi-module packages like NumPy or the Python Imaging Library from having to worry about each other’s module names.\n",
    "\n",
    "\n",
    "# Creating Modules\n",
    "# You can create your own modules and packages and use them in your programs.\n",
    "# The file name is the module name with the suffix .py appended.\n",
    "# Within a module, the module’s name (as a string) is available as the value of the global variable __name__.\n",
    "# A module can contain executable statements as well as function definitions.\n",
    "\n",
    "\n",
    "# how to use modules?\n",
    "# import module_name\n",
    "\n",
    "import dnautil\n"
   ]
  },
  {
   "cell_type": "code",
   "execution_count": 3,
   "metadata": {},
   "outputs": [
    {
     "name": "stdout",
     "output_type": "stream",
     "text": [
      "Collecting bioseqNote: you may need to restart the kernel to use updated packages.\n"
     ]
    },
    {
     "name": "stderr",
     "output_type": "stream",
     "text": [
      "  DEPRECATION: bioseq is being installed using the legacy 'setup.py install' method, because it does not have a 'pyproject.toml' and the 'wheel' package is not installed. pip 23.1 will enforce this behaviour change. A possible replacement is to enable the '--use-pep517' option. Discussion can be found at https://github.com/pypa/pip/issues/8559\n",
      "\n",
      "[notice] A new release of pip available: 22.3.1 -> 23.1.2\n",
      "[notice] To update, run: python.exe -m pip install --upgrade pip\n"
     ]
    },
    {
     "name": "stdout",
     "output_type": "stream",
     "text": [
      "\n",
      "  Downloading bioseq-0.2.3.tar.gz (11 kB)\n",
      "  Preparing metadata (setup.py): started\n",
      "  Preparing metadata (setup.py): finished with status 'done'\n",
      "Installing collected packages: bioseq\n",
      "  Running setup.py install for bioseq: started\n",
      "  Running setup.py install for bioseq: finished with status 'done'\n",
      "Successfully installed bioseq-0.2.3\n"
     ]
    }
   ],
   "source": [
    "pip install bioseq"
   ]
  },
  {
   "cell_type": "code",
   "execution_count": 1,
   "metadata": {},
   "outputs": [
    {
     "data": {
      "text/plain": [
       "['g:\\\\Online Courses\\\\Genomic data science\\\\2) Python for Genomic Science',\n",
       " 'c:\\\\Users\\\\ijaz ali jin\\\\AppData\\\\Local\\\\Programs\\\\Python\\\\Python311\\\\python311.zip',\n",
       " 'c:\\\\Users\\\\ijaz ali jin\\\\AppData\\\\Local\\\\Programs\\\\Python\\\\Python311\\\\DLLs',\n",
       " 'c:\\\\Users\\\\ijaz ali jin\\\\AppData\\\\Local\\\\Programs\\\\Python\\\\Python311\\\\Lib',\n",
       " 'c:\\\\Users\\\\ijaz ali jin\\\\AppData\\\\Local\\\\Programs\\\\Python\\\\Python311',\n",
       " '',\n",
       " 'C:\\\\Users\\\\ijaz ali jin\\\\AppData\\\\Roaming\\\\Python\\\\Python311\\\\site-packages',\n",
       " 'C:\\\\Users\\\\ijaz ali jin\\\\AppData\\\\Roaming\\\\Python\\\\Python311\\\\site-packages\\\\win32',\n",
       " 'C:\\\\Users\\\\ijaz ali jin\\\\AppData\\\\Roaming\\\\Python\\\\Python311\\\\site-packages\\\\win32\\\\lib',\n",
       " 'C:\\\\Users\\\\ijaz ali jin\\\\AppData\\\\Roaming\\\\Python\\\\Python311\\\\site-packages\\\\Pythonwin',\n",
       " 'c:\\\\Users\\\\ijaz ali jin\\\\AppData\\\\Local\\\\Programs\\\\Python\\\\Python311\\\\Lib\\\\site-packages']"
      ]
     },
     "execution_count": 1,
     "metadata": {},
     "output_type": "execute_result"
    }
   ],
   "source": [
    "import sys # sys is a module name \n",
    "sys.path # sys.path is a variable name "
   ]
  },
  {
   "cell_type": "code",
   "execution_count": 6,
   "metadata": {},
   "outputs": [],
   "source": [
    "import bioseq # bioseq is a module name\n",
    "\n",
    "\n",
    "\n"
   ]
  },
  {
   "cell_type": "code",
   "execution_count": 9,
   "metadata": {},
   "outputs": [
    {
     "name": "stdout",
     "output_type": "stream",
     "text": [
      "Collecting Bio\n",
      "  Downloading bio-1.5.9-py3-none-any.whl (276 kB)\n",
      "     ------------------------------------ 276.4/276.4 kB 140.7 kB/s eta 0:00:00\n",
      "Collecting biopython>=1.80\n",
      "  Downloading biopython-1.81-cp311-cp311-win_amd64.whl (2.7 MB)\n",
      "     ---------------------------------------- 2.7/2.7 MB 373.0 kB/s eta 0:00:00\n",
      "Collecting requests\n",
      "  Downloading requests-2.29.0-py3-none-any.whl (62 kB)\n",
      "     -------------------------------------- 62.5/62.5 kB 335.0 kB/s eta 0:00:00\n",
      "Collecting tqdm\n",
      "  Downloading tqdm-4.65.0-py3-none-any.whl (77 kB)\n",
      "     -------------------------------------- 77.1/77.1 kB 329.3 kB/s eta 0:00:00\n",
      "Collecting mygene\n",
      "  Downloading mygene-3.2.2-py2.py3-none-any.whl (5.4 kB)\n",
      "Requirement already satisfied: pandas in c:\\users\\ijaz ali jin\\appdata\\local\\programs\\python\\python311\\lib\\site-packages (from Bio) (2.0.0)\n",
      "Collecting pooch\n",
      "  Downloading pooch-1.7.0-py3-none-any.whl (60 kB)\n",
      "     -------------------------------------- 60.9/60.9 kB 359.1 kB/s eta 0:00:00\n",
      "Collecting gprofiler-official\n",
      "  Downloading gprofiler_official-1.0.0-py3-none-any.whl (9.3 kB)\n",
      "Requirement already satisfied: numpy in c:\\users\\ijaz ali jin\\appdata\\local\\programs\\python\\python311\\lib\\site-packages (from biopython>=1.80->Bio) (1.24.2)\n",
      "Collecting biothings-client>=0.2.6\n",
      "  Downloading biothings_client-0.3.0-py2.py3-none-any.whl (29 kB)\n",
      "Requirement already satisfied: python-dateutil>=2.8.2 in c:\\users\\ijaz ali jin\\appdata\\roaming\\python\\python311\\site-packages (from pandas->Bio) (2.8.2)\n",
      "Requirement already satisfied: pytz>=2020.1 in c:\\users\\ijaz ali jin\\appdata\\local\\programs\\python\\python311\\lib\\site-packages (from pandas->Bio) (2023.3)\n",
      "Requirement already satisfied: tzdata>=2022.1 in c:\\users\\ijaz ali jin\\appdata\\local\\programs\\python\\python311\\lib\\site-packages (from pandas->Bio) (2023.3)\n",
      "Requirement already satisfied: platformdirs>=2.5.0 in c:\\users\\ijaz ali jin\\appdata\\roaming\\python\\python311\\site-packages (from pooch->Bio) (3.2.0)\n",
      "Requirement already satisfied: packaging>=20.0 in c:\\users\\ijaz ali jin\\appdata\\roaming\\python\\python311\\site-packages (from pooch->Bio) (23.0)\n",
      "Collecting charset-normalizer<4,>=2\n",
      "  Downloading charset_normalizer-3.1.0-cp311-cp311-win_amd64.whl (96 kB)\n",
      "     -------------------------------------- 96.7/96.7 kB 345.8 kB/s eta 0:00:00\n",
      "Collecting idna<4,>=2.5\n",
      "  Downloading idna-3.4-py3-none-any.whl (61 kB)\n",
      "     -------------------------------------- 61.5/61.5 kB 363.8 kB/s eta 0:00:00\n",
      "Collecting urllib3<1.27,>=1.21.1\n",
      "  Downloading urllib3-1.26.15-py2.py3-none-any.whl (140 kB)\n",
      "     ------------------------------------ 140.9/140.9 kB 418.7 kB/s eta 0:00:00\n",
      "Collecting certifi>=2017.4.17\n",
      "  Downloading certifi-2022.12.7-py3-none-any.whl (155 kB)\n",
      "     ------------------------------------ 155.3/155.3 kB 442.1 kB/s eta 0:00:00\n",
      "Requirement already satisfied: colorama in c:\\users\\ijaz ali jin\\appdata\\roaming\\python\\python311\\site-packages (from tqdm->Bio) (0.4.6)\n",
      "Requirement already satisfied: six>=1.5 in c:\\users\\ijaz ali jin\\appdata\\roaming\\python\\python311\\site-packages (from python-dateutil>=2.8.2->pandas->Bio) (1.16.0)\n",
      "Installing collected packages: urllib3, tqdm, idna, charset-normalizer, certifi, biopython, requests, pooch, gprofiler-official, biothings-client, mygene, Bio\n",
      "Successfully installed Bio-1.5.9 biopython-1.81 biothings-client-0.3.0 certifi-2022.12.7 charset-normalizer-3.1.0 gprofiler-official-1.0.0 idna-3.4 mygene-3.2.2 pooch-1.7.0 requests-2.29.0 tqdm-4.65.0 urllib3-1.26.15\n",
      "Note: you may need to restart the kernel to use updated packages.\n"
     ]
    },
    {
     "name": "stderr",
     "output_type": "stream",
     "text": [
      "  WARNING: The script tqdm.exe is installed in 'c:\\Users\\ijaz ali jin\\AppData\\Local\\Programs\\Python\\Python311\\Scripts' which is not on PATH.\n",
      "  Consider adding this directory to PATH or, if you prefer to suppress this warning, use --no-warn-script-location.\n",
      "  WARNING: The script normalizer.exe is installed in 'c:\\Users\\ijaz ali jin\\AppData\\Local\\Programs\\Python\\Python311\\Scripts' which is not on PATH.\n",
      "  Consider adding this directory to PATH or, if you prefer to suppress this warning, use --no-warn-script-location.\n",
      "  WARNING: The scripts bio.exe and fasta_filter.exe are installed in 'c:\\Users\\ijaz ali jin\\AppData\\Local\\Programs\\Python\\Python311\\Scripts' which is not on PATH.\n",
      "  Consider adding this directory to PATH or, if you prefer to suppress this warning, use --no-warn-script-location.\n",
      "\n",
      "[notice] A new release of pip available: 22.3.1 -> 23.1.2\n",
      "[notice] To update, run: python.exe -m pip install --upgrade pip\n"
     ]
    }
   ],
   "source": [
    "pip install Bio"
   ]
  },
  {
   "cell_type": "code",
   "execution_count": 12,
   "metadata": {},
   "outputs": [
    {
     "data": {
      "text/plain": [
       "1"
      ]
     },
     "execution_count": 12,
     "metadata": {},
     "output_type": "execute_result"
    }
   ],
   "source": [
    "import Bio # Bio is a package name\n",
    "from Bio import SeqIO # SeqIO is a module name\n",
    "\n",
    "from Bio import SeqIO # SeqIO is a module name\n",
    "from Bio.Seq import Seq # Seq is a module name\n",
    "from Bio.SeqRecord import SeqRecord # SeqRecord is a module name\n",
    "\n",
    "#example\n",
    "\n",
    "\n",
    "seq = Seq(\"ATG\")\n",
    "seq_record = SeqRecord(seq)\n",
    "SeqIO.write(seq_record, \"seq.fasta\", \"fasta\")\n",
    "\n",
    "\n"
   ]
  }
 ],
 "metadata": {
  "kernelspec": {
   "display_name": "Python 3",
   "language": "python",
   "name": "python3"
  },
  "language_info": {
   "codemirror_mode": {
    "name": "ipython",
    "version": 3
   },
   "file_extension": ".py",
   "mimetype": "text/x-python",
   "name": "python",
   "nbconvert_exporter": "python",
   "pygments_lexer": "ipython3",
   "version": "3.11.3"
  },
  "orig_nbformat": 4
 },
 "nbformat": 4,
 "nbformat_minor": 2
}
