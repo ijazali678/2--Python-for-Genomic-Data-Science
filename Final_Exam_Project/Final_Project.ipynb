{
 "cells": [
  {
   "attachments": {},
   "cell_type": "markdown",
   "metadata": {},
   "source": [
    "# 1 How many records are in the multi-FASTA file?"
   ]
  },
  {
   "cell_type": "code",
   "execution_count": 118,
   "metadata": {},
   "outputs": [],
   "source": [
    "from Bio import SeqIO\n"
   ]
  },
  {
   "cell_type": "code",
   "execution_count": 94,
   "metadata": {},
   "outputs": [
    {
     "name": "stdout",
     "output_type": "stream",
     "text": [
      "Number of records in the file: 18\n"
     ]
    }
   ],
   "source": [
    "def count_records(filename):\n",
    "    record_count = 0\n",
    "    with open(filename, 'r') as fasta_file:\n",
    "        for line in fasta_file:\n",
    "            if line.startswith('>'):\n",
    "                record_count += 1\n",
    "    return record_count\n",
    "\n",
    "filename = \"dna2.fasta\"\n",
    "num_records = count_records(filename)\n",
    "print(\"Number of records in the file:\", num_records)\n"
   ]
  },
  {
   "attachments": {},
   "cell_type": "markdown",
   "metadata": {},
   "source": [
    "# 2 What is the length of the longest sequence in the file?"
   ]
  },
  {
   "cell_type": "code",
   "execution_count": 95,
   "metadata": {},
   "outputs": [
    {
     "name": "stdout",
     "output_type": "stream",
     "text": [
      "Length of the longest sequence: 4894\n",
      "Identifiers of the longest sequences: ['gi|142022655|gb|EQ086233.1|255 marine metagenome JCVI_SCAF_1096627390048 genomic scaffold, whole genome shotgun sequence']\n"
     ]
    }
   ],
   "source": [
    "def get_sequence_lengths(filename):\n",
    "    seq_lengths = {}\n",
    "    with open(filename, 'r') as fasta_file:\n",
    "        sequence_id = ''\n",
    "        sequence = ''\n",
    "        for line in fasta_file:\n",
    "            if line.startswith('>'):\n",
    "                if sequence_id:\n",
    "                    seq_lengths[sequence_id] = len(sequence)\n",
    "                sequence_id = line.strip()[1:]\n",
    "                sequence = ''\n",
    "            else:\n",
    "                sequence += line.strip()\n",
    "        seq_lengths[sequence_id] = len(sequence)\n",
    "    return seq_lengths\n",
    "\n",
    "filename = \"dna2.fasta\"\n",
    "seq_lengths = get_sequence_lengths(filename)\n",
    "\n",
    "longest_seq_length = max(seq_lengths.values())\n",
    "longest_seqs = [seq_id for seq_id, seq_len in seq_lengths.items() if seq_len == longest_seq_length]\n",
    "\n",
    "print(\"Length of the longest sequence:\", longest_seq_length)\n",
    "print(\"Identifiers of the longest sequences:\", longest_seqs)\n"
   ]
  },
  {
   "cell_type": "code",
   "execution_count": 96,
   "metadata": {},
   "outputs": [],
   "source": [
    "def shortest_sequence_length(filename):\n",
    "    shortest_length = float('inf')\n",
    "    with open(filename, 'r') as fasta_file:\n",
    "        current_sequence_length = 0\n",
    "        for line in fasta_file:\n",
    "            if line.startswith('>'):\n",
    "                # We've reached a new sequence\n",
    "                shortest_length = min(shortest_length, current_sequence_length)\n",
    "                current_sequence_length = 0\n",
    "            else:\n",
    "                # We're in the middle of a sequence\n",
    "                current_sequence_length += len(line.strip())\n",
    "        # Don't forget to check the length of the last sequence in the file\n",
    "        shortest_length = min(shortest_length, current_sequence_length)\n",
    "    return shortest_length\n"
   ]
  },
  {
   "attachments": {},
   "cell_type": "markdown",
   "metadata": {},
   "source": [
    "# 3 What is the length of the shortest sequence in the file?"
   ]
  },
  {
   "cell_type": "code",
   "execution_count": 100,
   "metadata": {},
   "outputs": [
    {
     "name": "stdout",
     "output_type": "stream",
     "text": [
      "The shortest sequence in the file has a length of: 115\n"
     ]
    }
   ],
   "source": [
    "def get_seq_lengths(filename):\n",
    "    seq_lengths = []\n",
    "    with open(filename, 'r') as fasta_file:\n",
    "        seq = ''\n",
    "        for line in fasta_file:\n",
    "            if line.startswith('>'):\n",
    "                if seq:\n",
    "                    seq_lengths.append(len(seq))\n",
    "                    seq = ''\n",
    "            else:\n",
    "                seq += line.strip()\n",
    "        if seq:\n",
    "            seq_lengths.append(len(seq))\n",
    "    return min(seq_lengths)\n",
    "\n",
    "print('The shortest sequence in the file has a length of:', get_seq_lengths('dna2.fasta'))\n"
   ]
  },
  {
   "attachments": {},
   "cell_type": "markdown",
   "metadata": {},
   "source": [
    "# 10 Which one of the following repeats of length 7 has a maximum number of occurrences?"
   ]
  },
  {
   "cell_type": "code",
   "execution_count": 111,
   "metadata": {},
   "outputs": [
    {
     "name": "stdout",
     "output_type": "stream",
     "text": [
      "The repeat of length 7 that occurs the maximum number of times is 'CGCCGCG' with a count of 63.\n"
     ]
    }
   ],
   "source": [
    "from collections import Counter\n",
    "import re\n",
    "\n",
    "# Read the sequences from the file\n",
    "with open('dna2.fasta') as file:\n",
    "    sequences = {}\n",
    "    for line in file:\n",
    "        line = line.rstrip()\n",
    "        if line.startswith('>'):\n",
    "            seq_name = line[1:]\n",
    "            sequences[seq_name] = ''\n",
    "        else:\n",
    "            sequences[seq_name] += line\n",
    "\n",
    "# Concatenate all the sequences into a single string\n",
    "seq = ''.join(sequences.values())\n",
    "\n",
    "# Find all repeats of length 7\n",
    "repeats = re.findall(r'(?=(\\w{7}))', seq)\n",
    "\n",
    "# Count the occurrences of each repeat\n",
    "repeat_counts = Counter(repeats)\n",
    "\n",
    "# Find the repeat with the maximum number of occurrences\n",
    "max_repeat = repeat_counts.most_common(1)[0][0]\n",
    "\n",
    "# Print the result\n",
    "print(f\"The repeat of length 7 that occurs the maximum number of times is '{max_repeat}' with a count of {repeat_counts[max_repeat]}.\")\n"
   ]
  },
  {
   "attachments": {},
   "cell_type": "markdown",
   "metadata": {},
   "source": [
    "# 4 What is the length of the longest ORF appearing in reading frame 2 of any of the sequences?"
   ]
  },
  {
   "cell_type": "code",
   "execution_count": 116,
   "metadata": {},
   "outputs": [],
   "source": [
    "def find_longest_orf_start_rf2(filename):\n",
    "    longest_orf = \"\"\n",
    "    with open(filename) as f:\n",
    "        for seq_record in SeqIO.parse(f, \"fasta\"):\n",
    "            seq = str(seq_record.seq)\n",
    "            for i in range(1, 4):\n",
    "                if i == 2:  # check only for reading frame 2\n",
    "                    rev_seq = seq[::-1].translate(str.maketrans(\"ATGC\", \"TACG\"))\n",
    "                    for strand, nuc in [(+1, seq), (-1, rev_seq)]:\n",
    "                        for frame in range(3):\n",
    "                            length = 3 * ((len(seq) - frame) // 3)\n",
    "                            for j in range(frame, length, 3):\n",
    "                                codon = nuc[j : j + 3]\n",
    "                                if codon == \"ATG\":\n",
    "                                    codon_start = j\n",
    "                                    aa_seq = \"\"\n",
    "                                    for k in range(j, length, 3):\n",
    "                                        codon = nuc[k : k + 3]\n",
    "                                        aa = codon_table.get(codon, \"\")\n",
    "                                        if aa == \"\":\n",
    "                                            break\n",
    "                                        aa_seq += aa\n",
    "                                    if len(aa_seq) > len(longest_orf):\n",
    "                                        longest_orf = aa_seq\n",
    "    return len(longest_orf)\n"
   ]
  },
  {
   "cell_type": "code",
   "execution_count": 117,
   "metadata": {},
   "outputs": [
    {
     "name": "stdout",
     "output_type": "stream",
     "text": [
      "The length of the longest ORF in reading frame 2 is 1625\n"
     ]
    }
   ],
   "source": [
    "filename = \"dna2.fasta\"\n",
    "longest_orf_length = find_longest_orf_start_rf2(filename)\n",
    "print(f\"The length of the longest ORF in reading frame 2 is {longest_orf_length}\")\n"
   ]
  },
  {
   "attachments": {},
   "cell_type": "markdown",
   "metadata": {},
   "source": [
    "# 5 What is the starting position of the longest ORF in reading frame 3 in any of the sequences? The position should indicate the character number where the ORF begins. For instance, the following ORF:\n",
    "\n",
    "-> sequence1\n",
    "\n",
    "-ATGCCCTAG\n",
    "\n",
    "-starts at position 1."
   ]
  },
  {
   "cell_type": "code",
   "execution_count": 119,
   "metadata": {},
   "outputs": [
    {
     "name": "stdout",
     "output_type": "stream",
     "text": [
      "The starting position of the longest ORF in reading frame 3 is 636\n"
     ]
    }
   ],
   "source": [
    "filename = \"dna2.fasta\"\n",
    "frame = 3\n",
    "\n",
    "def find_longest_orf_start(filename, frame):\n",
    "    longest_orf_start = 0\n",
    "    longest_orf_len = 0\n",
    "    with open(filename) as f:\n",
    "        for seq_record in SeqIO.parse(f, \"fasta\"):\n",
    "            seq = str(seq_record.seq)\n",
    "            for i in range(frame - 1, len(seq) - 2, 3):\n",
    "                codon = seq[i:i+3]\n",
    "                if codon == \"ATG\":\n",
    "                    orf_len = 3\n",
    "                    end_pos = i + 3\n",
    "                    while end_pos < len(seq) - 2:\n",
    "                        next_codon = seq[end_pos:end_pos+3]\n",
    "                        if next_codon in [\"TAA\", \"TAG\", \"TGA\"]:\n",
    "                            break\n",
    "                        orf_len += 3\n",
    "                        end_pos += 3\n",
    "                    if orf_len > longest_orf_len:\n",
    "                        longest_orf_len = orf_len\n",
    "                        longest_orf_start = i + 1\n",
    "    return longest_orf_start\n",
    "\n",
    "longest_orf_start = find_longest_orf_start(filename, frame)\n",
    "print(f\"The starting position of the longest ORF in reading frame {frame} is {longest_orf_start}\")\n"
   ]
  },
  {
   "attachments": {},
   "cell_type": "markdown",
   "metadata": {},
   "source": [
    " # 9 Find all repeats of length 12 in the input file. Let's use Max to specify the number of copies\n",
    "\n",
    "of the most frequent repeat of length 12.  How many different 12-base sequences \n",
    "\n",
    "occur Max times?"
   ]
  },
  {
   "cell_type": "code",
   "execution_count": 121,
   "metadata": {},
   "outputs": [],
   "source": [
    "def find_max_repeats(filename, length):\n",
    "    # Read in the sequences from the file\n",
    "    sequences = read_fasta(filename)\n",
    "    # Create an empty dictionary to store the counts of each k-mer\n",
    "    kmer_counts = {}\n",
    "    # Iterate over each sequence\n",
    "    for seq in sequences.values():\n",
    "        # Iterate over each k-mer of length k\n",
    "        for i in range(len(seq)-length+1):\n",
    "            kmer = seq[i:i+length]\n",
    "            if kmer in kmer_counts:\n",
    "                kmer_counts[kmer] += 1\n",
    "            else:\n",
    "                kmer_counts[kmer] = 1\n",
    "    # Find the maximum count of any k-mer\n",
    "    max_count = max(kmer_counts.values())\n",
    "    # Find all k-mers with count equal to max_count\n",
    "    max_kmers = [kmer for kmer, count in kmer_counts.items() if count == max_count]\n",
    "    return len(max_kmers), max_count\n"
   ]
  },
  {
   "cell_type": "code",
   "execution_count": 123,
   "metadata": {},
   "outputs": [],
   "source": [
    "def read_fasta(filename):\n",
    "    \"\"\"Reads a multi-FASTA file and returns a dictionary of sequence IDs and sequences\"\"\"\n",
    "    sequences = {}\n",
    "    with open(filename, \"r\") as fasta_file:\n",
    "        seq_id = None\n",
    "        seq = \"\"\n",
    "        for line in fasta_file:\n",
    "            if line.startswith(\">\"):\n",
    "                if seq_id is not None:\n",
    "                    sequences[seq_id] = seq\n",
    "                seq_id = line.strip()[1:]\n",
    "                seq = \"\"\n",
    "            else:\n",
    "                seq += line.strip()\n",
    "        if seq_id is not None:\n",
    "            sequences[seq_id] = seq\n",
    "    return sequences\n"
   ]
  },
  {
   "cell_type": "code",
   "execution_count": 124,
   "metadata": {},
   "outputs": [
    {
     "name": "stdout",
     "output_type": "stream",
     "text": [
      "There are 4 different 12-base sequences that occur 10 times.\n"
     ]
    }
   ],
   "source": [
    "filename = \"dna2.fasta\"\n",
    "length = 12\n",
    "num_kmers, max_count = find_max_repeats(filename, length)\n",
    "print(f\"There are {num_kmers} different {length}-base sequences that occur {max_count} times.\")\n"
   ]
  },
  {
   "attachments": {},
   "cell_type": "markdown",
   "metadata": {},
   "source": [
    "# 8 Find the most frequently occurring repeat of length 6 in all sequences. How many times does it occur in all?"
   ]
  },
  {
   "cell_type": "code",
   "execution_count": 125,
   "metadata": {},
   "outputs": [
    {
     "name": "stdout",
     "output_type": "stream",
     "text": [
      "The most frequent 6-mer is GCGCGC, which occurs 153 times.\n"
     ]
    }
   ],
   "source": [
    "from collections import Counter\n",
    "from Bio import SeqIO\n",
    "\n",
    "def find_most_common_kmer(filename, k):\n",
    "    kmers = []\n",
    "    with open(filename) as f:\n",
    "        for seq_record in SeqIO.parse(f, \"fasta\"):\n",
    "            seq = str(seq_record.seq)\n",
    "            for i in range(len(seq) - k + 1):\n",
    "                kmer = seq[i:i+k]\n",
    "                kmers.append(kmer)\n",
    "    kmer_counts = Counter(kmers)\n",
    "    most_common_kmer, count = kmer_counts.most_common(1)[0]\n",
    "    return most_common_kmer, count\n",
    "\n",
    "filename = \"dna2.fasta\"\n",
    "k = 6\n",
    "most_common_6mer, count = find_most_common_kmer(filename, k)\n",
    "print(f\"The most frequent {k}-mer is {most_common_6mer}, which occurs {count} times.\")\n"
   ]
  },
  {
   "attachments": {},
   "cell_type": "markdown",
   "metadata": {},
   "source": [
    "# 7 What is the length of the longest forward ORF that appears in the sequence with the identifier  gi|142022655|gb|EQ086233.1|16?"
   ]
  },
  {
   "cell_type": "code",
   "execution_count": 126,
   "metadata": {},
   "outputs": [
    {
     "ename": "KeyError",
     "evalue": "'gi|142022655|gb|EQ086233.1|16'",
     "output_type": "error",
     "traceback": [
      "\u001b[1;31m---------------------------------------------------------------------------\u001b[0m",
      "\u001b[1;31mKeyError\u001b[0m                                  Traceback (most recent call last)",
      "Cell \u001b[1;32mIn[126], line 32\u001b[0m\n\u001b[0;32m     29\u001b[0m sequences \u001b[39m=\u001b[39m read_fasta(filename)\n\u001b[0;32m     31\u001b[0m \u001b[39m# Extract the DNA sequence for the specific identifier\u001b[39;00m\n\u001b[1;32m---> 32\u001b[0m seq \u001b[39m=\u001b[39m sequences[\u001b[39m\"\u001b[39;49m\u001b[39mgi|142022655|gb|EQ086233.1|16\u001b[39;49m\u001b[39m\"\u001b[39;49m]\n\u001b[0;32m     34\u001b[0m \u001b[39m# Find the length of the longest forward ORF in the sequence\u001b[39;00m\n\u001b[0;32m     35\u001b[0m length \u001b[39m=\u001b[39m longest_orf(seq)\n",
      "\u001b[1;31mKeyError\u001b[0m: 'gi|142022655|gb|EQ086233.1|16'"
     ]
    }
   ],
   "source": [
    "# Define a function to find the longest forward ORF in a DNA sequence\n",
    "def longest_orf(seq):\n",
    "    # Import the ORF finder from the BioPython library\n",
    "    from Bio.Seq import Seq\n",
    "    from Bio.SeqRecord import SeqRecord\n",
    "    from Bio.Alphabet import generic_dna\n",
    "    from Bio.SeqFeature import SeqFeature, FeatureLocation\n",
    "    from Bio import SeqIO\n",
    "    from Bio.SeqUtils import six_frame_translations\n",
    "\n",
    "    # Translate the sequence in all six reading frames\n",
    "    translations = six_frame_translations(seq)\n",
    "\n",
    "    # Find the longest ORF in each translation\n",
    "    orfs = []\n",
    "    for trans in translations:\n",
    "        for frame, orf in trans.items():\n",
    "            if len(orf) > 0:\n",
    "                orfs.append(SeqRecord(Seq(orf, generic_dna)))\n",
    "\n",
    "    # Sort the ORFs by length, in descending order\n",
    "    orfs.sort(key=lambda x: len(x), reverse=True)\n",
    "\n",
    "    # Return the length of the longest ORF\n",
    "    return len(orfs[0])\n",
    "\n",
    "# Read in the sequences from the file\n",
    "filename = \"dna2.fasta\"\n",
    "sequences = read_fasta(filename)\n",
    "\n",
    "# Extract the DNA sequence for the specific identifier\n",
    "seq = sequences[\"gi|142022655|gb|EQ086233.1|16\"]\n",
    "\n",
    "# Find the length of the longest forward ORF in the sequence\n",
    "length = longest_orf(seq)\n",
    "\n",
    "print(f\"The length of the longest forward ORF in the sequence with identifier 'gi|142022655|gb|EQ086233.1|16' is {length}.\")\n"
   ]
  },
  {
   "attachments": {},
   "cell_type": "markdown",
   "metadata": {},
   "source": [
    "# Question 6\n",
    "What is the length of the longest ORF appearing in any sequence and in any forward reading frame?"
   ]
  },
  {
   "cell_type": "code",
   "execution_count": 128,
   "metadata": {},
   "outputs": [
    {
     "ename": "ImportError",
     "evalue": "Bio.Alphabet has been removed from Biopython. In many cases, the alphabet can simply be ignored and removed from scripts. In a few cases, you may need to specify the ``molecule_type`` as an annotation on a SeqRecord for your script to work correctly. Please see https://biopython.org/wiki/Alphabet for more information.",
     "output_type": "error",
     "traceback": [
      "\u001b[1;31m---------------------------------------------------------------------------\u001b[0m",
      "\u001b[1;31mImportError\u001b[0m                               Traceback (most recent call last)",
      "Cell \u001b[1;32mIn[128], line 14\u001b[0m\n\u001b[0;32m     12\u001b[0m subseq \u001b[39m=\u001b[39m seq[frame:]\n\u001b[0;32m     13\u001b[0m \u001b[39m# Find the length of the longest ORF in this subsequence\u001b[39;00m\n\u001b[1;32m---> 14\u001b[0m orf_length \u001b[39m=\u001b[39m longest_orf(subseq)\n\u001b[0;32m     15\u001b[0m \u001b[39m# Update the max ORF length if necessary\u001b[39;00m\n\u001b[0;32m     16\u001b[0m \u001b[39mif\u001b[39;00m orf_length \u001b[39m>\u001b[39m max_orf_length:\n",
      "Cell \u001b[1;32mIn[126], line 6\u001b[0m, in \u001b[0;36mlongest_orf\u001b[1;34m(seq)\u001b[0m\n\u001b[0;32m      4\u001b[0m \u001b[39mfrom\u001b[39;00m \u001b[39mBio\u001b[39;00m\u001b[39m.\u001b[39;00m\u001b[39mSeq\u001b[39;00m \u001b[39mimport\u001b[39;00m Seq\n\u001b[0;32m      5\u001b[0m \u001b[39mfrom\u001b[39;00m \u001b[39mBio\u001b[39;00m\u001b[39m.\u001b[39;00m\u001b[39mSeqRecord\u001b[39;00m \u001b[39mimport\u001b[39;00m SeqRecord\n\u001b[1;32m----> 6\u001b[0m \u001b[39mfrom\u001b[39;00m \u001b[39mBio\u001b[39;00m\u001b[39m.\u001b[39;00m\u001b[39mAlphabet\u001b[39;00m \u001b[39mimport\u001b[39;00m generic_dna\n\u001b[0;32m      7\u001b[0m \u001b[39mfrom\u001b[39;00m \u001b[39mBio\u001b[39;00m\u001b[39m.\u001b[39;00m\u001b[39mSeqFeature\u001b[39;00m \u001b[39mimport\u001b[39;00m SeqFeature, FeatureLocation\n\u001b[0;32m      8\u001b[0m \u001b[39mfrom\u001b[39;00m \u001b[39mBio\u001b[39;00m \u001b[39mimport\u001b[39;00m SeqIO\n",
      "File \u001b[1;32mc:\\Users\\ijaz ali jin\\AppData\\Local\\Programs\\Python\\Python311\\Lib\\site-packages\\Bio\\Alphabet\\__init__.py:20\u001b[0m\n\u001b[0;32m      1\u001b[0m \u001b[39m# Copyright 2000-2002 by Andrew Dalke.\u001b[39;00m\n\u001b[0;32m      2\u001b[0m \u001b[39m# Revisions copyright 2007-2010 by Peter Cock.\u001b[39;00m\n\u001b[0;32m      3\u001b[0m \u001b[39m# All rights reserved.\u001b[39;00m\n\u001b[1;32m   (...)\u001b[0m\n\u001b[0;32m      7\u001b[0m \u001b[39m# Please see the LICENSE file that should have been included as part of this\u001b[39;00m\n\u001b[0;32m      8\u001b[0m \u001b[39m# package.\u001b[39;00m\n\u001b[0;32m      9\u001b[0m \u001b[39m\"\"\"Alphabets were previously used to declare sequence type and letters (OBSOLETE).\u001b[39;00m\n\u001b[0;32m     10\u001b[0m \n\u001b[0;32m     11\u001b[0m \u001b[39mThe design of Bio.Aphabet included a number of historic design choices\u001b[39;00m\n\u001b[1;32m   (...)\u001b[0m\n\u001b[0;32m     17\u001b[0m \u001b[39mtransition from Bio.Alphabet to molecule type annotations.\u001b[39;00m\n\u001b[0;32m     18\u001b[0m \u001b[39m\"\"\"\u001b[39;00m\n\u001b[1;32m---> 20\u001b[0m \u001b[39mraise\u001b[39;00m \u001b[39mImportError\u001b[39;00m(\n\u001b[0;32m     21\u001b[0m     \u001b[39m\"\u001b[39m\u001b[39mBio.Alphabet has been removed from Biopython. In many cases, the alphabet can simply be ignored and removed from scripts. In a few cases, you may need to specify the ``molecule_type`` as an annotation on a SeqRecord for your script to work correctly. Please see https://biopython.org/wiki/Alphabet for more information.\u001b[39m\u001b[39m\"\u001b[39m\n\u001b[0;32m     22\u001b[0m )\n",
      "\u001b[1;31mImportError\u001b[0m: Bio.Alphabet has been removed from Biopython. In many cases, the alphabet can simply be ignored and removed from scripts. In a few cases, you may need to specify the ``molecule_type`` as an annotation on a SeqRecord for your script to work correctly. Please see https://biopython.org/wiki/Alphabet for more information."
     ]
    }
   ],
   "source": [
    "filename = \"dna2.fasta\"\n",
    "\n",
    "# Read in the sequences from the file\n",
    "sequences = read_fasta(filename)\n",
    "\n",
    "# Find the length of the longest ORF in any sequence and any forward reading frame\n",
    "max_orf_length = 0\n",
    "for seq_id, seq in sequences.items():\n",
    "    # Consider all six possible reading frames\n",
    "    for frame in range(3):\n",
    "        # Extract the subsequence in this frame\n",
    "        subseq = seq[frame:]\n",
    "        # Find the length of the longest ORF in this subsequence\n",
    "        orf_length = longest_orf(subseq)\n",
    "        # Update the max ORF length if necessary\n",
    "        if orf_length > max_orf_length:\n",
    "            max_orf_length = orf_length\n",
    "\n",
    "print(\"The length of the longest ORF in any sequence and any forward reading frame is:\", max_orf_length)\n"
   ]
  }
 ],
 "metadata": {
  "kernelspec": {
   "display_name": "Python 3",
   "language": "python",
   "name": "python3"
  },
  "language_info": {
   "codemirror_mode": {
    "name": "ipython",
    "version": 3
   },
   "file_extension": ".py",
   "mimetype": "text/x-python",
   "name": "python",
   "nbconvert_exporter": "python",
   "pygments_lexer": "ipython3",
   "version": "3.11.3"
  },
  "orig_nbformat": 4
 },
 "nbformat": 4,
 "nbformat_minor": 2
}
