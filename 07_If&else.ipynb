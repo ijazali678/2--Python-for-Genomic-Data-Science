{
 "cells": [
  {
   "attachments": {},
   "cell_type": "markdown",
   "metadata": {},
   "source": [
    "Key takeaways:\n",
    "- Programming controls and decision-making require the programmer to specify conditions that the program will evaluate.\n",
    "- Controls allow non-sequential execution of comments and are specified using keywords such as if and else in many programming languages.\n",
    "- An example of how an if statement works in Python is given, where a condition is checked using the if statement and a block of code is executed if it is true.\n",
    "- The conditions that follow the if keyword are called Boolean expressions and are either true or false.\n",
    "- Boolean expressions are formed with the help of comparison, identity, and membership operators, such as ==, !=, <, >, in, and not in."
   ]
  },
  {
   "cell_type": "code",
   "execution_count": 1,
   "metadata": {},
   "outputs": [],
   "source": [
    "# if and loops Part 1\n",
    " # Desicion making and loops are the most important part of programming\n",
    "\n",
    "# if statement\n",
    "# if statement is used to check the condition and execute the code if the condition is true \n",
    "# if the condition is false then the code will not be executed \n"
   ]
  },
  {
   "cell_type": "code",
   "execution_count": 2,
   "metadata": {},
   "outputs": [],
   "source": [
    "# the if statment is written as follows\n",
    "\n",
    "dna = input(\"Enter the DNA sequence: \")\n",
    "\n",
    "if \"n\" in dna:\n",
    "  nbases = dna.count(\"n\")\n",
    "  print(\"The number of n bases is undefined: \", nbases)\n"
   ]
  },
  {
   "cell_type": "code",
   "execution_count": 3,
   "metadata": {},
   "outputs": [
    {
     "data": {
      "text/plain": [
       "True"
      ]
     },
     "execution_count": 3,
     "metadata": {},
     "output_type": "execute_result"
    }
   ],
   "source": [
    "# Boolean expression \n",
    "# Boolean expression is an expression that is either true or false\n",
    "# Boolean expression is used in if statement to check the condition\n",
    "# Boolean expression is written as follows\n",
    "\n",
    "# ==  equal to\n",
    "# !=  not equal to\n",
    "# >   greater than\n",
    "# <   less than\n",
    "# >=  greater than or equal to\n",
    "# <=  less than or equal to\n",
    "\n",
    "# for example\n",
    "5 > 3 # this is a boolean expression and it is true\n"
   ]
  },
  {
   "cell_type": "code",
   "execution_count": 4,
   "metadata": {},
   "outputs": [
    {
     "data": {
      "text/plain": [
       "False"
      ]
     },
     "execution_count": 4,
     "metadata": {},
     "output_type": "execute_result"
    }
   ],
   "source": [
    "\n",
    "len(\"ATGATGATG\") > 10 # this is a boolean expression and it is false"
   ]
  },
  {
   "cell_type": "code",
   "execution_count": 5,
   "metadata": {},
   "outputs": [
    {
     "data": {
      "text/plain": [
       "True"
      ]
     },
     "execution_count": 5,
     "metadata": {},
     "output_type": "execute_result"
    }
   ],
   "source": [
    "\"A\" < \"G\""
   ]
  },
  {
   "cell_type": "code",
   "execution_count": 6,
   "metadata": {},
   "outputs": [
    {
     "data": {
      "text/plain": [
       "True"
      ]
     },
     "execution_count": 6,
     "metadata": {},
     "output_type": "execute_result"
    }
   ],
   "source": [
    "# Membership operator\n",
    "# Membership operator is used to check if a value is present in a sequence\n",
    "# Membership operator is written as follows\n",
    "\n",
    "# in\n",
    "# not in\n",
    "\n",
    "# for example\n",
    "\n",
    "\"ATG\" in \"ATGATGATG\" # this is a membership operator and it is true\n",
    "\n",
    "    "
   ]
  },
  {
   "cell_type": "code",
   "execution_count": 7,
   "metadata": {},
   "outputs": [
    {
     "data": {
      "text/plain": [
       "True"
      ]
     },
     "execution_count": 7,
     "metadata": {},
     "output_type": "execute_result"
    }
   ],
   "source": [
    "# not in    \n",
    "\"ATG\" not in \"AGAGAG\" # this is a membership operator and it is false\n"
   ]
  },
  {
   "cell_type": "code",
   "execution_count": 8,
   "metadata": {},
   "outputs": [
    {
     "data": {
      "text/plain": [
       "False"
      ]
     },
     "execution_count": 8,
     "metadata": {},
     "output_type": "execute_result"
    }
   ],
   "source": [
    "# is Operator\n",
    "# is operator is used to check if two variables are pointing to the same object\n",
    "# is operator is written as follows\n",
    "\n",
    "# is\n",
    "# is not\n",
    "\n",
    "# for example\n",
    "\n",
    "dna = \"ATGATGATG\"\n",
    "dna2 = dna\n",
    "dna3 = \"ATGATGATGA\"\n",
    "\n",
    "dna is dna3 # this is a is operator and it is true\n"
   ]
  },
  {
   "cell_type": "code",
   "execution_count": 9,
   "metadata": {},
   "outputs": [
    {
     "name": "stdout",
     "output_type": "stream",
     "text": [
      "The number of n bases is zero\n"
     ]
    }
   ],
   "source": [
    "dna = input(\"Enter the DNA sequence: \")\n",
    "\n",
    "if \"n\" in dna or \"N\" in dna:\n",
    "    nbases = dna.count(\"n\") + dna.count(\"N\")\n",
    "    print(\"The number of n bases is undefined: \", nbases)\n",
    "else:\n",
    "    print(\"The number of n bases is zero\")\n"
   ]
  }
 ],
 "metadata": {
  "kernelspec": {
   "display_name": "Python 3",
   "language": "python",
   "name": "python3"
  },
  "language_info": {
   "codemirror_mode": {
    "name": "ipython",
    "version": 3
   },
   "file_extension": ".py",
   "mimetype": "text/x-python",
   "name": "python",
   "nbconvert_exporter": "python",
   "pygments_lexer": "ipython3",
   "version": "3.11.3"
  },
  "orig_nbformat": 4
 },
 "nbformat": 4,
 "nbformat_minor": 2
}
