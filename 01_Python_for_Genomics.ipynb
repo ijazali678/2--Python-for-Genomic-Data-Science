{
 "cells": [
  {
   "attachments": {},
   "cell_type": "markdown",
   "metadata": {},
   "source": [
    "### First Steps Toward Programming Part 1"
   ]
  },
  {
   "cell_type": "code",
   "execution_count": 7,
   "metadata": {},
   "outputs": [
    {
     "data": {
      "text/plain": [
       "9"
      ]
     },
     "execution_count": 7,
     "metadata": {},
     "output_type": "execute_result"
    }
   ],
   "source": [
    "#operators Run it spearately to see the output of each operator \n",
    "2+5 #addition\n",
    "2-5 #subtraction\n",
    "2*5 #multiplication\n",
    "2/5 #division\n",
    "2**5 #exponentiation\n",
    "2%5 #modulus\n",
    "2//5 #floor division\n",
    "2==5 #equality\n",
    "2!=5 #inequality\n",
    "2>5 #greater than\n",
    "2<5 #less than\n",
    "2>=5 #greater than or equal to\n",
    "2<=5 #less than or equal to\n",
    "1+2*3 #operator precedence\n",
    "2**3**2 #operator precedence\n",
    "(1+2)*3 #parentheses"
   ]
  },
  {
   "cell_type": "code",
   "execution_count": 11,
   "metadata": {},
   "outputs": [
    {
     "data": {
      "text/plain": [
       "dict"
      ]
     },
     "execution_count": 11,
     "metadata": {},
     "output_type": "execute_result"
    }
   ],
   "source": [
    "# number can different types, run it separately to see the output of each type\n",
    "#intiger    \n",
    "type(2)   \n",
    "\n",
    "#real number\n",
    "type(2.0)\n",
    "\n",
    "#float \n",
    "type(2.0)\n",
    "\n",
    "#complex\n",
    "type(2+3j)\n",
    "\n",
    "#boolean\n",
    "type(True)\n",
    "\n",
    "#string\n",
    "type('hello')\n",
    "\n",
    "#list\n",
    "type([1,2,3])\n",
    "\n",
    "#tuple\n",
    "type((1,2,3))\n",
    "\n",
    "#set\n",
    "type({1,2,3})\n",
    "\n",
    "#dictionary\n",
    "type({'a':1,'b':2})\n"
   ]
  },
  {
   "cell_type": "code",
   "execution_count": 13,
   "metadata": {},
   "outputs": [
    {
     "data": {
      "text/plain": [
       "complex"
      ]
     },
     "execution_count": 13,
     "metadata": {},
     "output_type": "execute_result"
    }
   ],
   "source": [
    "#past here the code to check the type of the variable\n",
    "#complex\n",
    "type(2+3j)"
   ]
  },
  {
   "attachments": {},
   "cell_type": "markdown",
   "metadata": {},
   "source": [
    "# String in Geneomic "
   ]
  },
  {
   "cell_type": "code",
   "execution_count": 22,
   "metadata": {},
   "outputs": [
    {
     "name": "stdout",
     "output_type": "stream",
     "text": [
      "ATG\n",
      "\n",
      "ATG\t\n",
      "\n",
      "    >dna1 ATGCGTACGATCGATCGATCGCTA\n",
      "    >dna2 ATGCGTACGATCGATCGATCGCTA\n",
      "    >dna3 ATGCGTACGATCGATCGATCGCTA\n"
     ]
    }
   ],
   "source": [
    "# String in Genomics\n",
    "# single quote\n",
    "print('ATG\\n') #\\n is for new line\n",
    "\n",
    "#dounble quote\n",
    "print(\"ATG\\t\") #\\t is for tab\n",
    "\n",
    "#DNA sequence   \n",
    "print(\"\"\"\\\n",
    "    >dna1 ATGCGTACGATCGATCGATCGCTA\n",
    "    >dna2 ATGCGTACGATCGATCGATCGCTA\n",
    "    >dna3 ATGCGTACGATCGATCGATCGCTA\"\"\") #\\ is for line continuation"
   ]
  },
  {
   "attachments": {},
   "cell_type": "markdown",
   "metadata": {},
   "source": [
    "# Basic String Operators"
   ]
  },
  {
   "cell_type": "code",
   "execution_count": 26,
   "metadata": {},
   "outputs": [
    {
     "name": "stdout",
     "output_type": "stream",
     "text": [
      "ATGCGT\n",
      "ATGATGATG\n",
      "3\n",
      "A\n",
      "TG\n",
      "AT\n",
      "False\n",
      "True\n"
     ]
    }
   ],
   "source": [
    "#Basic String Operations\n",
    "#concatenation \n",
    "print('ATG'+'CGT')\n",
    "\n",
    "#repetition\n",
    "print('ATG'*3)\n",
    "\n",
    "#length\n",
    "print(len('ATG'))\n",
    "\n",
    "#slicing\n",
    "print('ATG'[0])\n",
    "\n",
    "#slicing\n",
    "print('ATG'[1:3])\n",
    "\n",
    "#slicing\n",
    "print('ATG'[:2])\n",
    "\n",
    "#in\n",
    "print('C' in 'ATG')\n",
    "\n",
    "#not in\n",
    "print('C' not in 'ATG')\n",
    "\n"
   ]
  }
 ],
 "metadata": {
  "kernelspec": {
   "display_name": "Python 3",
   "language": "python",
   "name": "python3"
  },
  "language_info": {
   "codemirror_mode": {
    "name": "ipython",
    "version": 3
   },
   "file_extension": ".py",
   "mimetype": "text/x-python",
   "name": "python",
   "nbconvert_exporter": "python",
   "pygments_lexer": "ipython3",
   "version": "3.11.2"
  },
  "orig_nbformat": 4
 },
 "nbformat": 4,
 "nbformat_minor": 2
}
