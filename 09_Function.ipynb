{
 "cells": [
  {
   "attachments": {},
   "cell_type": "markdown",
   "metadata": {},
   "source": [
    "# Functions\n"
   ]
  },
  {
   "cell_type": "code",
   "execution_count": 1,
   "metadata": {},
   "outputs": [
    {
     "name": "stdout",
     "output_type": "stream",
     "text": [
      "Hello from a function\n"
     ]
    }
   ],
   "source": [
    "# what is function?\n",
    "# function is a block of code which only runs when it is called.\n",
    "# you can pass data, known as parameters, into a function.\n",
    "# A function can return data as a result.\n",
    "# why use function?\n",
    "# you can reuse code: define the code once, and use it many times.\n",
    "# you can use the same code many times with different arguments, to produce different results.\n",
    "# def keyword is used to define a function.\n",
    "\n",
    "# create a function\n",
    "def my_function():\n",
    "    print(\"Hello from a function\")\n",
    "\n",
    "# call a function\n",
    "my_function()\n"
   ]
  },
  {
   "cell_type": "code",
   "execution_count": 6,
   "metadata": {},
   "outputs": [
    {
     "name": "stdout",
     "output_type": "stream",
     "text": [
      "Ijaz Ali\n"
     ]
    }
   ],
   "source": [
    "def my_function(name):\n",
    "    print(name + \" Ali\")\n",
    "\n",
    "my_function(\"Ijaz\")"
   ]
  },
  {
   "cell_type": "code",
   "execution_count": 8,
   "metadata": {},
   "outputs": [
    {
     "name": "stdout",
     "output_type": "stream",
     "text": [
      "37.93103448275862\n"
     ]
    }
   ],
   "source": [
    "# function for counting the GC percentage in a DNA sequence\n",
    "\n",
    "def GC_percentage(dna):\n",
    "    length = len(dna)\n",
    "    a_count = dna.count('A')\n",
    "    t_count = dna.count('T')\n",
    "    at_count = a_count + t_count\n",
    "    gc_count = length - at_count\n",
    "    gc_percentage = (gc_count/length) * 100\n",
    "    return gc_percentage\n",
    "\n",
    "print(GC_percentage(\"ATGCGCGATAAAAAAAAACGATCGAATCG\"))\n",
    "\n"
   ]
  },
  {
   "cell_type": "code",
   "execution_count": 19,
   "metadata": {},
   "outputs": [
    {
     "name": "stdout",
     "output_type": "stream",
     "text": [
      "The DNA sequence contains an in-frame stop codon.\n"
     ]
    }
   ],
   "source": [
    "# write a program that checks if a given DNA sequience contains an in frame stop codon\n",
    "def has_stop_codon(dna):\n",
    "    stop_codons = [\"tga\", \"tag\", \"taa\"]\n",
    "    for i in range(0, len(dna) - 2, 3):\n",
    "        codon = dna[i:i+3].lower()\n",
    "        if codon in stop_codons:\n",
    "            return True\n",
    "    return False\n",
    "\n",
    "dna_sequence = \"atgcatgcaaaaacttaggttttgcattggggcccttttgaagctt\"\n",
    "if has_stop_codon(dna_sequence):\n",
    "    print(\"The DNA sequence contains an in-frame stop codon.\")\n",
    "else:\n",
    "    print(\"The DNA sequence does not contain an in-frame stop codon.\")\n"
   ]
  },
  {
   "cell_type": "code",
   "execution_count": 20,
   "metadata": {},
   "outputs": [
    {
     "data": {
      "text/plain": [
       "True"
      ]
     },
     "execution_count": 20,
     "metadata": {},
     "output_type": "execute_result"
    }
   ],
   "source": [
    "seq = \"atgcatgcaaaaacttaggttttgcattggggcccttttgaagctt\"\n",
    "has_stop_codon(seq)\n",
    "\n"
   ]
  },
  {
   "cell_type": "code",
   "execution_count": 21,
   "metadata": {},
   "outputs": [],
   "source": [
    "# write a funciton to reverse complement a DNA sequence\n",
    "def reverse_complement(dna):\n",
    "    complement = {'A': 'T', 'C': 'G', 'G': 'C', 'T': 'A'}\n",
    "    reverse_complement = ''\n",
    "    for base in dna[::-1]:\n",
    "        reverse_complement += complement[base]\n",
    "    return reverse_complement\n"
   ]
  },
  {
   "cell_type": "code",
   "execution_count": 34,
   "metadata": {},
   "outputs": [
    {
     "name": "stdout",
     "output_type": "stream",
     "text": [
      "CGAC\n"
     ]
    }
   ],
   "source": [
    "dna_sequence = \"GTCG\"\n",
    "reverse_comp = reverse_complement(dna_sequence)\n",
    "print(reverse_comp)\n"
   ]
  },
  {
   "cell_type": "code",
   "execution_count": 26,
   "metadata": {},
   "outputs": [
    {
     "name": "stdout",
     "output_type": "stream",
     "text": [
      "15\n"
     ]
    }
   ],
   "source": [
    "# write a function to find the longest ORF in a DNA sequence\n",
    "def longest_ORF(dna):\n",
    "    longest_orf = 0\n",
    "    for i in range(0, len(dna) - 2, 3):\n",
    "        codon = dna[i:i+3].lower()\n",
    "        if codon == \"atg\":\n",
    "            for j in range(i, len(dna) - 2, 3):\n",
    "                codon = dna[j:j+3].lower()\n",
    "                if codon in [\"tga\", \"tag\", \"taa\"]:\n",
    "                    orf_length = j - i\n",
    "                    if orf_length > longest_orf:\n",
    "                        longest_orf = orf_length\n",
    "                    break\n",
    "    return longest_orf\n",
    "\n",
    "\n",
    "dna_sequence = \"atgcatgcaaaaacttaggttttgcattggggcccttttgaagctt\"\n",
    "\n",
    "longest_orf = longest_ORF(dna_sequence)\n",
    "print(longest_orf)\n",
    "\n"
   ]
  }
 ],
 "metadata": {
  "kernelspec": {
   "display_name": "Python 3",
   "language": "python",
   "name": "python3"
  },
  "language_info": {
   "codemirror_mode": {
    "name": "ipython",
    "version": 3
   },
   "file_extension": ".py",
   "mimetype": "text/x-python",
   "name": "python",
   "nbconvert_exporter": "python",
   "pygments_lexer": "ipython3",
   "version": "3.11.3"
  },
  "orig_nbformat": 4
 },
 "nbformat": 4,
 "nbformat_minor": 2
}
