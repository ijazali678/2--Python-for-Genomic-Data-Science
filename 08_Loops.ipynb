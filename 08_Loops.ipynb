{
 "cells": [
  {
   "attachments": {},
   "cell_type": "markdown",
   "metadata": {},
   "source": [
    "# while loops and for loops \n"
   ]
  },
  {
   "cell_type": "code",
   "execution_count": 1,
   "metadata": {},
   "outputs": [
    {
     "name": "stdout",
     "output_type": "stream",
     "text": [
      "1\n",
      "2\n",
      "3\n",
      "4\n",
      "5\n",
      "6\n",
      "7\n",
      "8\n",
      "9\n",
      "10\n"
     ]
    }
   ],
   "source": [
    "# while loops and for loops\n",
    "\n",
    "# while loops\n",
    "# while loops are used to repeat a block of code until a condition is met\n",
    "# the condition is checked before the code is executed\n",
    "# the code is executed as long as the condition is true\n",
    "# the code is executed at least once\n",
    "\n",
    "\n",
    "# while loop example\n",
    "# print the numbers 1 to 10\n",
    "# the condition is that the number is less than or equal to 10\n",
    "# the code is executed as long as the number is less than or equal to 10\n",
    "# the code is executed at least once\n",
    "\n",
    "# initialize the number\n",
    "number = 1\n",
    "\n",
    "# while loop\n",
    "while number <= 10:\n",
    "    print(number)\n",
    "    number += 1\n"
   ]
  },
  {
   "cell_type": "code",
   "execution_count": 6,
   "metadata": {},
   "outputs": [
    {
     "name": "stdout",
     "output_type": "stream",
     "text": [
      "Donor splice site found at position 13\n"
     ]
    }
   ],
   "source": [
    "dna = input(\"Enter a DNA sequence: \")\n",
    "pos = dna.find(\"ATG\", 0) # position of donor splice site\n",
    "\n",
    "while pos != -1:\n",
    "    print(\"Donor splice site found at position\", pos)\n",
    "    pos = dna.find(\"ATG\", pos + 1) # search for next donor splice site\n"
   ]
  },
  {
   "cell_type": "code",
   "execution_count": 11,
   "metadata": {},
   "outputs": [
    {
     "name": "stdout",
     "output_type": "stream",
     "text": [
      "TAATA 5\n",
      "CGCAGCACG 9\n",
      "ATAAGGCAAAAT 12\n",
      "TTAA 4\n"
     ]
    }
   ],
   "source": [
    "motifs = [\"TAATA\", \"CGCAGCACG\", \"ATAAGGCAAAAT\", \"TTAA\"] # list of motifs\n",
    "\n",
    "for m in motifs:  # for each motif in the list\n",
    "    print(m,len(m)) # print the motif and its length"
   ]
  },
  {
   "cell_type": "code",
   "execution_count": 2,
   "metadata": {},
   "outputs": [
    {
     "name": "stdout",
     "output_type": "stream",
     "text": [
      "1\n",
      "2\n",
      "3\n",
      "4\n",
      "5\n",
      "6\n",
      "7\n",
      "8\n",
      "9\n",
      "10\n"
     ]
    }
   ],
   "source": [
    "# for loops\n",
    "# for loops are used to repeat a block of code a specific number of times\n",
    "# the number of times is specified before the code is executed\n",
    "# the code is executed as long as the number of times is greater than 0\n",
    "# the code is executed at least once\n",
    "\n",
    "\n",
    "# for loop example\n",
    "# print the numbers 1 to 10\n",
    "# the number of times is 10\n",
    "# the code is executed as long as the number of times is greater than 0\n",
    "# the code is executed at least once\n",
    "\n",
    "# for loop\n",
    "for number in range(1, 11):\n",
    "    print(number)\n",
    "\n"
   ]
  },
  {
   "cell_type": "code",
   "execution_count": 12,
   "metadata": {},
   "outputs": [
    {
     "name": "stdout",
     "output_type": "stream",
     "text": [
      "1\n",
      "3\n",
      "5\n",
      "7\n",
      "9\n"
     ]
    }
   ],
   "source": [
    "# range function\n",
    "# the range function is used to create a sequence of numbers\n",
    "# the range function is used in for loops\n",
    "# the range function is used to specify the number of times a for loop is executed\n",
    "# the range function is used to specify the number of times a while loop is executed\n",
    "# the range function is used to specify the number of times a function is executed\n",
    "# the range function is used to specify the number of times a list is iterated\n",
    "# the range function is used to specify the number of times a string is iterated\n",
    "# the range function is used to specify the number of times a tuple is iterated\n",
    "# the range function is used to specify the number of times a dictionary is iterated\n",
    "# the range function is used to specify the number of times a set is iterated\n",
    "# the range function is used to specify the number of times a file is iterated\n",
    "# the range function is used to specify the number of times a generator is iterated\n",
    "# the range function is used to specify the number of times a numpy array is iterated\n",
    "# the range function is used to specify the number of times a pandas dataframe is iterated\n",
    "# the range function is used to specify the number of times a pandas series is iterated\n",
    "# the range function is used to specify the number of times a pandas panel is iterated\n",
    "# the range function is used to specify the number of times a pandas panel4d is iterated\n",
    "# the range function is used to specify the number of times a pandas panelnd is iterated\n",
    "# the range function is used to specify the number of times a pandas sparse array is iterated\n",
    "# the range function is used to specify the number of times a pandas sparse series is iterated\n",
    "\n",
    "\n",
    "# range function example\n",
    "# print the numbers 1 to 10\n",
    "# the number of times is 10\n",
    "# the code is executed as long as the number of times is greater than 0\n",
    "# the code is executed at least once\n",
    "\n",
    "\n",
    "# range function\n",
    "for number in range(1,11,2):\n",
    "    print(number)\n"
   ]
  },
  {
   "cell_type": "code",
   "execution_count": 26,
   "metadata": {},
   "outputs": [
    {
     "name": "stdout",
     "output_type": "stream",
     "text": [
      "protein contains invalide AA at postion  ('U', 1)\n",
      "protein contains invalide AA at postion  ('J', 10)\n",
      "protein contains invalide AA at postion  ('U', 17)\n"
     ]
    }
   ],
   "source": [
    "protein = \"MUSRSLLLRFJLLFLLLULPPLP\"\n",
    "for i in range(len(protein)): \n",
    "    if protein[i] not in \"ABCDEFGHIKLMNOPQRSTVWXYZ\":\n",
    "        print(\"protein contains invalide AA at postion \", (protein[i], i))\n",
    "    "
   ]
  },
  {
   "cell_type": "code",
   "execution_count": 27,
   "metadata": {},
   "outputs": [
    {
     "name": "stdout",
     "output_type": "stream",
     "text": [
      "This is not Valid protein sequence! \n"
     ]
    }
   ],
   "source": [
    "protein = \"MUSRSLLLRFJLLFLLLULPPLP\"\n",
    "for i in range(len(protein)): \n",
    "    if protein[i] not in \"ABCDEFGHIKLMNOPQRSTVWXYZ\":\n",
    "        print(\"This is not Valid protein sequence! \")\n",
    "        break"
   ]
  },
  {
   "cell_type": "code",
   "execution_count": 28,
   "metadata": {},
   "outputs": [],
   "source": [
    "#pass statement\n",
    "# the pass statement is used to skip a block of code\n",
    "\n",
    "# pass statement example\n",
    "# print the numbers 1 to 10\n",
    "# the number of times is 10\n",
    "# the code is executed as long as the number of times is greater than 0\n",
    "# the code is executed at least once\n",
    "\n",
    "# pass statement\n",
    "for number in range(1, 11):\n",
    "    pass\n",
    "\n",
    "\n"
   ]
  },
  {
   "cell_type": "code",
   "execution_count": 52,
   "metadata": {},
   "outputs": [],
   "source": [
    "i = 1\n",
    "while i < 100:\n",
    "          if i%2 == 0 : break\n",
    "          i += 1\n",
    "else:\n",
    "     i=1000"
   ]
  }
 ],
 "metadata": {
  "kernelspec": {
   "display_name": "Python 3",
   "language": "python",
   "name": "python3"
  },
  "language_info": {
   "codemirror_mode": {
    "name": "ipython",
    "version": 3
   },
   "file_extension": ".py",
   "mimetype": "text/x-python",
   "name": "python",
   "nbconvert_exporter": "python",
   "pygments_lexer": "ipython3",
   "version": "3.11.3"
  },
  "orig_nbformat": 4
 },
 "nbformat": 4,
 "nbformat_minor": 2
}
