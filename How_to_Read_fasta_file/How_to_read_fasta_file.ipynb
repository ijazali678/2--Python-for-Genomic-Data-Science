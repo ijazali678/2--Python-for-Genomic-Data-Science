{
 "cells": [
  {
   "cell_type": "code",
   "execution_count": 1,
   "metadata": {},
   "outputs": [
    {
     "name": "stdout",
     "output_type": "stream",
     "text": [
      "lcl|NC_000011.10_cds_NP_000509.1_1 ATGGTGCATCTGACTCCTGAGGAGAAGTCTGCCGTTACTGCCCTGTGGGGCAAGGTGAACGTGGATGAAGTTGGTGGTGAGGCCCTGGGCAGGCTGCTGGTGGTCTACCCTTGGACCCAGAGGTTCTTTGAGTCCTTTGGGGATCTGTCCACTCCTGATGCTGTTATGGGCAACCCTAAGGTGAAGGCTCATGGCAAGAAAGTGCTCGGTGCCTTTAGTGATGGCCTGGCTCACCTGGACAACCTCAAGGGCACCTTTGCCACACTGAGTGAGCTGCACTGTGACAAGCTGCACGTGGATCCTGAGAACTTCAGGCTCCTGGGCAACGTGCTGGTCTGTGTGCTGGCCCATCACTTTGGCAAAGAATTCACCCCACCAGTGCAGGCTGCCTATCAGAAAGTGGTGGCTGGTGTGGCTAATGCCCTGGCCCACAAGTATCACTAA\n"
     ]
    }
   ],
   "source": [
    "try:\n",
    "    f = open(\"myfile.fa.txt\")\n",
    "except IOError:\n",
    "    print(\"File not found!\")\n",
    "\n",
    "seqs = {}\n",
    "with open('myfile.fa.txt') as f:\n",
    "    name = ''\n",
    "    for line in f:\n",
    "        line = line.rstrip()\n",
    "        if line.startswith('>'):\n",
    "            words = line.split()\n",
    "            name = words[0][1:]\n",
    "            seqs[name] = ''\n",
    "        else:\n",
    "            seqs[name] += line\n",
    "\n",
    "# Print the sequences\n",
    "for name, seq in seqs.items():\n",
    "    print(name, seq)\n"
   ]
  },
  {
   "cell_type": "code",
   "execution_count": 34,
   "metadata": {},
   "outputs": [
    {
     "name": "stdout",
     "output_type": "stream",
     "text": [
      "Sequence 'f' not found.\n"
     ]
    }
   ],
   "source": [
    "# Retrieve a specific sequence by name\n",
    "seq_name = 'MySequence'\n",
    "if seq_name in seqs:\n",
    "    sequence = seqs[seq_name]\n",
    "    print(sequence)\n",
    "else:\n",
    "    print(f\"Sequence '{seq_name}' not found.\")\n"
   ]
  },
  {
   "cell_type": "code",
   "execution_count": 9,
   "metadata": {},
   "outputs": [
    {
     "name": "stdout",
     "output_type": "stream",
     "text": [
      "lcl|NC_000011.10_cds_NP_000509.1_1 ATGGTGCATCTGACTCCTGAGGAGAAGTCTGCCGTTACTGCCCTGTGGGGCAAGGTGAACGTGGATGAAGTTGGTGGTGAGGCCCTGGGCAGGCTGCTGGTGGTCTACCCTTGGACCCAGAGGTTCTTTGAGTCCTTTGGGGATCTGTCCACTCCTGATGCTGTTATGGGCAACCCTAAGGTGAAGGCTCATGGCAAGAAAGTGCTCGGTGCCTTTAGTGATGGCCTGGCTCACCTGGACAACCTCAAGGGCACCTTTGCCACACTGAGTGAGCTGCACTGTGACAAGCTGCACGTGGATCCTGAGAACTTCAGGCTCCTGGGCAACGTGCTGGTCTGTGTGCTGGCCCATCACTTTGGCAAAGAATTCACCCCACCAGTGCAGGCTGCCTATCAGAAAGTGGTGGCTGGTGTGGCTAATGCCCTGGCCCACAAGTATCACTAA\n"
     ]
    }
   ],
   "source": [
    "# how to retrive sequence from fasta file?\n",
    "\n",
    "for name, seq in seqs.items():\n",
    "    print(name, seq)"
   ]
  },
  {
   "cell_type": "code",
   "execution_count": 23,
   "metadata": {},
   "outputs": [
    {
     "name": "stdout",
     "output_type": "stream",
     "text": [
      "--ip=127.0.0.1\n"
     ]
    },
    {
     "data": {
      "text/plain": [
       "['How_to_read_fasta_file.py', 'myfile.fa.txt']"
      ]
     },
     "execution_count": 23,
     "metadata": {},
     "output_type": "execute_result"
    }
   ],
   "source": [
    "import sys\n",
    "print(sys.argv[1])\n",
    "[\"How_to_read_fasta_file.py\", \"myfile.fa.txt\"]"
   ]
  },
  {
   "cell_type": "code",
   "execution_count": 29,
   "metadata": {},
   "outputs": [
    {
     "name": "stdout",
     "output_type": "stream",
     "text": [
      "--ip=127.0.0.1\n"
     ]
    },
    {
     "data": {
      "text/plain": [
       "['How_to_read_fasta_file.py', 'myfile.fa.txt']"
      ]
     },
     "execution_count": 29,
     "metadata": {},
     "output_type": "execute_result"
    }
   ],
   "source": [
    "import subprocess\n",
    "subprocess.call([\"python\", \"How_to_read_fasta_file.py\", \"myfile.fa.txt\"])\n",
    "\n",
    "import sys\n",
    "print(sys.argv[1])\n",
    "[\"How_to_read_fasta_file.py\", \"myfile.fa.txt\"]\n",
    "\n",
    "\n"
   ]
  }
 ],
 "metadata": {
  "kernelspec": {
   "display_name": "Python 3",
   "language": "python",
   "name": "python3"
  },
  "language_info": {
   "codemirror_mode": {
    "name": "ipython",
    "version": 3
   },
   "file_extension": ".py",
   "mimetype": "text/x-python",
   "name": "python",
   "nbconvert_exporter": "python",
   "pygments_lexer": "ipython3",
   "version": "3.11.3"
  },
  "orig_nbformat": 4
 },
 "nbformat": 4,
 "nbformat_minor": 2
}
