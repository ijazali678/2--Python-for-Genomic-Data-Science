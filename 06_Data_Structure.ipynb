{
 "cells": [
  {
   "attachments": {},
   "cell_type": "markdown",
   "metadata": {},
   "source": [
    "#  DATA STRUCTURE "
   ]
  },
  {
   "attachments": {},
   "cell_type": "markdown",
   "metadata": {},
   "source": [
    "-list data strucutre \n",
    "\n",
    "-list is a collection of items in a particular order\n",
    "\n",
    "-list is mutable\n",
    "\n",
    "-list is ordered\n",
    "\n",
    "-list is indexed\n",
    "\n",
    "-list is iterable\n",
    "\n",
    "-list is dynamic\n",
    "\n",
    "-list is heterogeneous\n",
    "\n",
    "-list is a sequence\n",
    "\n",
    "-list is a collection\n",
    "\n",
    "-list is a container"
   ]
  },
  {
   "cell_type": "code",
   "execution_count": 3,
   "metadata": {},
   "outputs": [
    {
     "name": "stdout",
     "output_type": "stream",
     "text": [
      "25\n"
     ]
    }
   ],
   "source": [
    "# list data sturecture of gene expression data\n",
    "\n",
    "gene_expression = [\"gene\", 525, 25, 35]\n",
    "print(gene_expression[2])\n"
   ]
  },
  {
   "cell_type": "code",
   "execution_count": 4,
   "metadata": {},
   "outputs": [],
   "source": [
    "# you change the name of the gene\n",
    "\n",
    "gene_expression[0] = \"lif\""
   ]
  },
  {
   "cell_type": "code",
   "execution_count": 5,
   "metadata": {},
   "outputs": [
    {
     "data": {
      "text/plain": [
       "['lif', 525, 25, 35]"
      ]
     },
     "execution_count": 5,
     "metadata": {},
     "output_type": "execute_result"
    }
   ],
   "source": [
    "gene_expression"
   ]
  },
  {
   "cell_type": "code",
   "execution_count": 6,
   "metadata": {},
   "outputs": [
    {
     "data": {
      "text/plain": [
       "['lif', 525, 25, 35, 100]"
      ]
     },
     "execution_count": 6,
     "metadata": {},
     "output_type": "execute_result"
    }
   ],
   "source": [
    "# slicing the list\n",
    "\n",
    "gene_expression[1:3]\n",
    "\n",
    "# adding new elements to the list\n",
    "\n",
    "gene_expression.append(100)\n",
    "\n",
    "gene_expression"
   ]
  },
  {
   "cell_type": "code",
   "execution_count": 18,
   "metadata": {},
   "outputs": [
    {
     "data": {
      "text/plain": [
       "4"
      ]
     },
     "execution_count": 18,
     "metadata": {},
     "output_type": "execute_result"
    }
   ],
   "source": [
    "# basic operations on list\n",
    "\n",
    "gene_expression = [\"gene\", 525, 25, 35]\n",
    "\n",
    "len(gene_expression)\n",
    "\n"
   ]
  },
  {
   "cell_type": "code",
   "execution_count": 22,
   "metadata": {},
   "outputs": [
    {
     "data": {
      "text/plain": [
       "525"
      ]
     },
     "execution_count": 22,
     "metadata": {},
     "output_type": "execute_result"
    }
   ],
   "source": [
    "# delete the last element of the list\n",
    "\n",
    "del gene_expression[0]\n",
    "\n",
    "# length of the list\n",
    "\n",
    "len(gene_expression)\n",
    "\n",
    "import statistics\n",
    "\n",
    "statistics.median(gene_expression)\n",
    "\n"
   ]
  },
  {
   "cell_type": "code",
   "execution_count": 27,
   "metadata": {},
   "outputs": [
    {
     "data": {
      "text/plain": [
       "['a', 'b', 'c', 'd', 'e', 'f']"
      ]
     },
     "execution_count": 27,
     "metadata": {},
     "output_type": "execute_result"
    }
   ],
   "source": [
    "# list as stack\n",
    "\n",
    "stack = [\"a\", \"b\", \"c\", \"d\", \"e\"]\n",
    "stack.append(\"f\")\n",
    "stack"
   ]
  },
  {
   "cell_type": "code",
   "execution_count": 29,
   "metadata": {},
   "outputs": [
    {
     "data": {
      "text/plain": [
       "'e'"
      ]
     },
     "execution_count": 29,
     "metadata": {},
     "output_type": "execute_result"
    }
   ],
   "source": [
    "elem = stack.pop()  # remove the last element\n",
    "elem"
   ]
  },
  {
   "cell_type": "code",
   "execution_count": 33,
   "metadata": {},
   "outputs": [
    {
     "data": {
      "text/plain": [
       "[1, 2, 3, 4, 5, 7, 34, 76, 96, 7, 8, 9, 10]"
      ]
     },
     "execution_count": 33,
     "metadata": {},
     "output_type": "execute_result"
    }
   ],
   "source": [
    "# sorted list\n",
    "\n",
    "mylist = [1, 2, 3, 4, 5 ,7, 34, 76, 96, 7, 8, 9, 10]\n",
    "sorted(mylist)\n",
    "mylist\n"
   ]
  },
  {
   "cell_type": "code",
   "execution_count": 36,
   "metadata": {},
   "outputs": [
    {
     "name": "stdout",
     "output_type": "stream",
     "text": [
      "[1, 2, 3, 4, 5, 7, 7, 8, 9, 10, 34, 76, 96]\n"
     ]
    }
   ],
   "source": [
    "mylist.sort()\n",
    "print(mylist)"
   ]
  }
 ],
 "metadata": {
  "kernelspec": {
   "display_name": "Python 3",
   "language": "python",
   "name": "python3"
  },
  "language_info": {
   "codemirror_mode": {
    "name": "ipython",
    "version": 3
   },
   "file_extension": ".py",
   "mimetype": "text/x-python",
   "name": "python",
   "nbconvert_exporter": "python",
   "pygments_lexer": "ipython3",
   "version": "3.11.2"
  },
  "orig_nbformat": 4
 },
 "nbformat": 4,
 "nbformat_minor": 2
}
