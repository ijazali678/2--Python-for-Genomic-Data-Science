{
 "cells": [
  {
   "attachments": {},
   "cell_type": "markdown",
   "metadata": {},
   "source": [
    "# This course teaches foundational concepts, algorithms, and data structures for analyzing DNA sequencing data, using real data and programming skills to implement ideas.\n",
    "It is helpful to have some undergraduate-level background in computer science, but the course is designed to be accessible to students with minimal or no computer science background and no background in genomics or biology.\n",
    "Python programming skills are necessary for the course, and the code taught in class will be in Python. Students with weaker Python skills may want to practice before enrolling or set aside extra time to learn and practice during the course."
   ]
  },
  {
   "attachments": {},
   "cell_type": "markdown",
   "metadata": {},
   "source": [
    "Course Content\n",
    "\n",
    "Module 1: DNA sequencing, strings and matching: Why study this? DNA sequencers and how they work. How DNA can be represented as a string. Using Python to parse and manipulate real genome sequences and real DNA sequencing data.  Naive exact matching.\n",
    "\n",
    "Module 2: Preprocessing, indexing and approximate matching: Improving on naive exact matching with Boyer-Moore.  Preprocessing and indexing.  Indexing: grouping and ordering.  k-mers and k-mer indexes.  Approximate matching and the pigeonhole principle.\n",
    "\n",
    "Module 3: Edit distance, assembly, overlaps: Hamming and edit distance. Algorithms for computing edit distance. Dynamic programming. Global and local alignment. De novo assembly. Overlaps and overlap graphs.\n",
    "\n",
    "Module 4: Algorithms for assembly: Shortest common superstring and the greedy version. How repetitive DNA makes assembly difficult. De Bruijn graphs and Eulerian walks. How real assemblers work. The future of assembly. Wrap up."
   ]
  }
 ],
 "metadata": {
  "language_info": {
   "name": "python"
  },
  "orig_nbformat": 4
 },
 "nbformat": 4,
 "nbformat_minor": 2
}
