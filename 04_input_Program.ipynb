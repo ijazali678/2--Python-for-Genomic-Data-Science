{
 "cells": [
  {
   "attachments": {},
   "cell_type": "markdown",
   "metadata": {},
   "source": [
    "# Reading input"
   ]
  },
  {
   "cell_type": "code",
   "execution_count": 1,
   "metadata": {},
   "outputs": [
    {
     "data": {
      "text/plain": [
       "'ATGTATGTC'"
      ]
     },
     "execution_count": 1,
     "metadata": {},
     "output_type": "execute_result"
    }
   ],
   "source": [
    "dna = input(\"Enter DNA sequence, Please: \")\n",
    "dna"
   ]
  },
  {
   "cell_type": "code",
   "execution_count": 2,
   "metadata": {},
   "outputs": [
    {
     "data": {
      "text/plain": [
       "str"
      ]
     },
     "execution_count": 2,
     "metadata": {},
     "output_type": "execute_result"
    }
   ],
   "source": [
    "type(dna)"
   ]
  },
  {
   "cell_type": "code",
   "execution_count": 3,
   "metadata": {},
   "outputs": [
    {
     "data": {
      "text/plain": [
       "'AUGUAUGUC'"
      ]
     },
     "execution_count": 3,
     "metadata": {},
     "output_type": "execute_result"
    }
   ],
   "source": [
    "# some conversion functions to convert DNA to RNA and vice versa\n",
    "def dna2rna(dna):\n",
    "    return dna.replace(\"T\", \"U\")\n",
    "\n",
    "\n",
    "dna2rna(dna)\n",
    "\n"
   ]
  },
  {
   "cell_type": "code",
   "execution_count": 4,
   "metadata": {},
   "outputs": [
    {
     "data": {
      "text/plain": [
       "'ATAGCATTGAGC'"
      ]
     },
     "execution_count": 4,
     "metadata": {},
     "output_type": "execute_result"
    }
   ],
   "source": [
    "rna = \"AUAGCAUUGAGC\"\n",
    "\n",
    "def rna2dna(rna):\n",
    "    return rna.replace(\"U\", \"T\")\n",
    "\n",
    "rna2dna(rna)"
   ]
  },
  {
   "attachments": {},
   "cell_type": "markdown",
   "metadata": {},
   "source": [
    " ####  convert x to an integer. base specifies the base if x is a string\n",
    "\n",
    "int(x [,base])             \n",
    "\n",
    "#### convert x to a floating-point number\n",
    "\n",
    "float(x)                  \n",
    "\n",
    "#### create a complex number\n",
    "\n",
    "complex(real [,imag])    \n",
    "\n",
    "#### convert object x to a string representation\n",
    "\n",
    "str(x)                     \n",
    "\n",
    "#### convert object x to an expression string\n",
    "\n",
    "repr(x)                     \n",
    "\n",
    "#### convert an integer to a character\n",
    "\n",
    "chr(x)                         "
   ]
  },
  {
   "cell_type": "code",
   "execution_count": 5,
   "metadata": {},
   "outputs": [
    {
     "name": "stdout",
     "output_type": "stream",
     "text": [
      "1.060000e+01\n",
      "10.600000\n",
      "10.6\n",
      "ATGTATGTC\n"
     ]
    }
   ],
   "source": [
    "print(\"%e\"  % 10.6) # scientific notation\n",
    "\n",
    "print(\"%f\"  % 10.6) # decimal notation\n",
    "\n",
    "print(\"%g\"  % 10.6) # scientific notation if exponent is less than -4 or greater than or equal to the precision, decimal notation otherwise\n",
    "\n",
    "print(\"%s\"  % dna) # string representation\")"
   ]
  },
  {
   "cell_type": "code",
   "execution_count": 6,
   "metadata": {},
   "outputs": [
    {
     "data": {
      "text/plain": [
       "11"
      ]
     },
     "execution_count": 6,
     "metadata": {},
     "output_type": "execute_result"
    }
   ],
   "source": [
    "int(4+6/2+2*2)"
   ]
  },
  {
   "cell_type": "code",
   "execution_count": 7,
   "metadata": {},
   "outputs": [
    {
     "name": "stdout",
     "output_type": "stream",
     "text": [
      ">HSBGPG Human bone gla gene\\transcript \"BGP\"\n",
      "GGCAGATTCCCCCTAGA\n"
     ]
    }
   ],
   "source": [
    "print('>HSBGPG Human bone gla gene\\\\transcript \"BGP\"\\nGGCAGATTCCCCCTAGA')"
   ]
  }
 ],
 "metadata": {
  "kernelspec": {
   "display_name": "Python 3",
   "language": "python",
   "name": "python3"
  },
  "language_info": {
   "codemirror_mode": {
    "name": "ipython",
    "version": 3
   },
   "file_extension": ".py",
   "mimetype": "text/x-python",
   "name": "python",
   "nbconvert_exporter": "python",
   "pygments_lexer": "ipython3",
   "version": "3.11.2"
  },
  "orig_nbformat": 4
 },
 "nbformat": 4,
 "nbformat_minor": 2
}
